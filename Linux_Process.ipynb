{
 "cells": [
  {
   "cell_type": "markdown",
   "metadata": {},
   "source": [
    "# Intrusion Detection using LightGBM"
   ]
  },
  {
   "cell_type": "markdown",
   "metadata": {},
   "source": [
    "## Nitin Vankadari"
   ]
  },
  {
   "cell_type": "code",
   "execution_count": 1,
   "metadata": {},
   "outputs": [],
   "source": [
    "import matplotlib\n",
    "import matplotlib.pyplot as plt\n",
    "import pandas as pd\n",
    "import numpy as np\n",
    "import seaborn as sns\n",
    "import sklearn\n",
    "%matplotlib inline"
   ]
  },
  {
   "cell_type": "code",
   "execution_count": 2,
   "metadata": {},
   "outputs": [],
   "source": [
    "dataset=pd.read_csv(\"train_Test_Linux_process.csv\")"
   ]
  },
  {
   "cell_type": "code",
   "execution_count": 3,
   "metadata": {},
   "outputs": [
    {
     "data": {
      "text/html": [
       "<div>\n",
       "<style scoped>\n",
       "    .dataframe tbody tr th:only-of-type {\n",
       "        vertical-align: middle;\n",
       "    }\n",
       "\n",
       "    .dataframe tbody tr th {\n",
       "        vertical-align: top;\n",
       "    }\n",
       "\n",
       "    .dataframe thead th {\n",
       "        text-align: right;\n",
       "    }\n",
       "</style>\n",
       "<table border=\"1\" class=\"dataframe\">\n",
       "  <thead>\n",
       "    <tr style=\"text-align: right;\">\n",
       "      <th></th>\n",
       "      <th>ts</th>\n",
       "      <th>PID</th>\n",
       "      <th>TRUN</th>\n",
       "      <th>TSLPI</th>\n",
       "      <th>TSLPU</th>\n",
       "      <th>POLI</th>\n",
       "      <th>NICE</th>\n",
       "      <th>PRI</th>\n",
       "      <th>RTPR</th>\n",
       "      <th>CPUNR</th>\n",
       "      <th>Status</th>\n",
       "      <th>EXC</th>\n",
       "      <th>State</th>\n",
       "      <th>CPU</th>\n",
       "      <th>CMD</th>\n",
       "      <th>label</th>\n",
       "      <th>type</th>\n",
       "    </tr>\n",
       "  </thead>\n",
       "  <tbody>\n",
       "    <tr>\n",
       "      <th>0</th>\n",
       "      <td>1556129658</td>\n",
       "      <td>52888</td>\n",
       "      <td>0</td>\n",
       "      <td>1</td>\n",
       "      <td>0</td>\n",
       "      <td>norm</td>\n",
       "      <td>20</td>\n",
       "      <td>100</td>\n",
       "      <td>0</td>\n",
       "      <td>0</td>\n",
       "      <td>0</td>\n",
       "      <td>0</td>\n",
       "      <td>S</td>\n",
       "      <td>0.01</td>\n",
       "      <td>atop</td>\n",
       "      <td>1</td>\n",
       "      <td>dos</td>\n",
       "    </tr>\n",
       "    <tr>\n",
       "      <th>1</th>\n",
       "      <td>1556129738</td>\n",
       "      <td>2791</td>\n",
       "      <td>0</td>\n",
       "      <td>5</td>\n",
       "      <td>0</td>\n",
       "      <td>norm</td>\n",
       "      <td>0</td>\n",
       "      <td>120</td>\n",
       "      <td>0</td>\n",
       "      <td>0</td>\n",
       "      <td>0</td>\n",
       "      <td>0</td>\n",
       "      <td>S</td>\n",
       "      <td>0.00</td>\n",
       "      <td>nautilus</td>\n",
       "      <td>1</td>\n",
       "      <td>dos</td>\n",
       "    </tr>\n",
       "    <tr>\n",
       "      <th>2</th>\n",
       "      <td>1556129778</td>\n",
       "      <td>2504</td>\n",
       "      <td>0</td>\n",
       "      <td>1</td>\n",
       "      <td>0</td>\n",
       "      <td>norm</td>\n",
       "      <td>0</td>\n",
       "      <td>120</td>\n",
       "      <td>0</td>\n",
       "      <td>2</td>\n",
       "      <td>0</td>\n",
       "      <td>0</td>\n",
       "      <td>S</td>\n",
       "      <td>0.00</td>\n",
       "      <td>upstart-dbus-b</td>\n",
       "      <td>1</td>\n",
       "      <td>dos</td>\n",
       "    </tr>\n",
       "    <tr>\n",
       "      <th>3</th>\n",
       "      <td>1556129788</td>\n",
       "      <td>3147</td>\n",
       "      <td>1</td>\n",
       "      <td>12</td>\n",
       "      <td>0</td>\n",
       "      <td>norm</td>\n",
       "      <td>0</td>\n",
       "      <td>120</td>\n",
       "      <td>0</td>\n",
       "      <td>1</td>\n",
       "      <td>0</td>\n",
       "      <td>0</td>\n",
       "      <td>S</td>\n",
       "      <td>1.00</td>\n",
       "      <td>drone</td>\n",
       "      <td>1</td>\n",
       "      <td>dos</td>\n",
       "    </tr>\n",
       "    <tr>\n",
       "      <th>4</th>\n",
       "      <td>1556129798</td>\n",
       "      <td>52888</td>\n",
       "      <td>0</td>\n",
       "      <td>1</td>\n",
       "      <td>0</td>\n",
       "      <td>norm</td>\n",
       "      <td>20</td>\n",
       "      <td>100</td>\n",
       "      <td>0</td>\n",
       "      <td>0</td>\n",
       "      <td>0</td>\n",
       "      <td>0</td>\n",
       "      <td>S</td>\n",
       "      <td>0.01</td>\n",
       "      <td>atop</td>\n",
       "      <td>1</td>\n",
       "      <td>dos</td>\n",
       "    </tr>\n",
       "  </tbody>\n",
       "</table>\n",
       "</div>"
      ],
      "text/plain": [
       "           ts    PID  TRUN  TSLPI  TSLPU  POLI  NICE  PRI  RTPR  CPUNR Status  \\\n",
       "0  1556129658  52888     0      1      0  norm    20  100     0      0      0   \n",
       "1  1556129738   2791     0      5      0  norm     0  120     0      0      0   \n",
       "2  1556129778   2504     0      1      0  norm     0  120     0      2      0   \n",
       "3  1556129788   3147     1     12      0  norm     0  120     0      1      0   \n",
       "4  1556129798  52888     0      1      0  norm    20  100     0      0      0   \n",
       "\n",
       "   EXC State   CPU             CMD  label type  \n",
       "0    0     S  0.01            atop      1  dos  \n",
       "1    0     S  0.00        nautilus      1  dos  \n",
       "2    0     S  0.00  upstart-dbus-b      1  dos  \n",
       "3    0     S  1.00           drone      1  dos  \n",
       "4    0     S  0.01            atop      1  dos  "
      ]
     },
     "execution_count": 3,
     "metadata": {},
     "output_type": "execute_result"
    }
   ],
   "source": [
    "dataset.head()"
   ]
  },
  {
   "cell_type": "code",
   "execution_count": 4,
   "metadata": {},
   "outputs": [
    {
     "data": {
      "text/plain": [
       "(160112, 17)"
      ]
     },
     "execution_count": 4,
     "metadata": {},
     "output_type": "execute_result"
    }
   ],
   "source": [
    "dataset.shape"
   ]
  },
  {
   "cell_type": "code",
   "execution_count": 5,
   "metadata": {
    "scrolled": true
   },
   "outputs": [
    {
     "name": "stdout",
     "output_type": "stream",
     "text": [
      "<class 'pandas.core.frame.DataFrame'>\n",
      "RangeIndex: 160112 entries, 0 to 160111\n",
      "Data columns (total 17 columns):\n",
      " #   Column  Non-Null Count   Dtype  \n",
      "---  ------  --------------   -----  \n",
      " 0   ts      160112 non-null  int64  \n",
      " 1   PID     160112 non-null  int64  \n",
      " 2   TRUN    160112 non-null  int64  \n",
      " 3   TSLPI   160112 non-null  int64  \n",
      " 4   TSLPU   160112 non-null  int64  \n",
      " 5   POLI    160112 non-null  object \n",
      " 6   NICE    160112 non-null  int64  \n",
      " 7   PRI     160112 non-null  int64  \n",
      " 8   RTPR    160112 non-null  int64  \n",
      " 9   CPUNR   160112 non-null  int64  \n",
      " 10  Status  160112 non-null  object \n",
      " 11  EXC     160112 non-null  int64  \n",
      " 12  State   160112 non-null  object \n",
      " 13  CPU     160112 non-null  float64\n",
      " 14  CMD     160112 non-null  object \n",
      " 15  label   160112 non-null  int64  \n",
      " 16  type    160112 non-null  object \n",
      "dtypes: float64(1), int64(11), object(5)\n",
      "memory usage: 20.8+ MB\n"
     ]
    }
   ],
   "source": [
    "dataset.info()"
   ]
  },
  {
   "cell_type": "code",
   "execution_count": 6,
   "metadata": {},
   "outputs": [
    {
     "data": {
      "text/html": [
       "<div>\n",
       "<style scoped>\n",
       "    .dataframe tbody tr th:only-of-type {\n",
       "        vertical-align: middle;\n",
       "    }\n",
       "\n",
       "    .dataframe tbody tr th {\n",
       "        vertical-align: top;\n",
       "    }\n",
       "\n",
       "    .dataframe thead th {\n",
       "        text-align: right;\n",
       "    }\n",
       "</style>\n",
       "<table border=\"1\" class=\"dataframe\">\n",
       "  <thead>\n",
       "    <tr style=\"text-align: right;\">\n",
       "      <th></th>\n",
       "      <th>ts</th>\n",
       "      <th>PID</th>\n",
       "      <th>TRUN</th>\n",
       "      <th>TSLPI</th>\n",
       "      <th>TSLPU</th>\n",
       "      <th>NICE</th>\n",
       "      <th>PRI</th>\n",
       "      <th>RTPR</th>\n",
       "      <th>CPUNR</th>\n",
       "      <th>EXC</th>\n",
       "      <th>CPU</th>\n",
       "      <th>label</th>\n",
       "    </tr>\n",
       "  </thead>\n",
       "  <tbody>\n",
       "    <tr>\n",
       "      <th>count</th>\n",
       "      <td>1.601120e+05</td>\n",
       "      <td>160112.000000</td>\n",
       "      <td>160112.000000</td>\n",
       "      <td>160112.000000</td>\n",
       "      <td>160112.000000</td>\n",
       "      <td>160112.000000</td>\n",
       "      <td>160112.000000</td>\n",
       "      <td>160112.0</td>\n",
       "      <td>160112.000000</td>\n",
       "      <td>160112.000000</td>\n",
       "      <td>160112.000000</td>\n",
       "      <td>160112.000000</td>\n",
       "    </tr>\n",
       "    <tr>\n",
       "      <th>mean</th>\n",
       "      <td>1.555145e+09</td>\n",
       "      <td>3256.037293</td>\n",
       "      <td>0.083092</td>\n",
       "      <td>3.916814</td>\n",
       "      <td>0.001130</td>\n",
       "      <td>5.157471</td>\n",
       "      <td>111.654748</td>\n",
       "      <td>0.0</td>\n",
       "      <td>1.569351</td>\n",
       "      <td>0.017663</td>\n",
       "      <td>0.038341</td>\n",
       "      <td>0.375437</td>\n",
       "    </tr>\n",
       "    <tr>\n",
       "      <th>std</th>\n",
       "      <td>8.816813e+05</td>\n",
       "      <td>2071.338868</td>\n",
       "      <td>0.284315</td>\n",
       "      <td>7.856580</td>\n",
       "      <td>0.074001</td>\n",
       "      <td>8.722292</td>\n",
       "      <td>20.521090</td>\n",
       "      <td>0.0</td>\n",
       "      <td>1.245371</td>\n",
       "      <td>0.692833</td>\n",
       "      <td>0.188411</td>\n",
       "      <td>0.484237</td>\n",
       "    </tr>\n",
       "    <tr>\n",
       "      <th>min</th>\n",
       "      <td>1.554219e+09</td>\n",
       "      <td>1007.000000</td>\n",
       "      <td>0.000000</td>\n",
       "      <td>0.000000</td>\n",
       "      <td>0.000000</td>\n",
       "      <td>0.000000</td>\n",
       "      <td>0.000000</td>\n",
       "      <td>0.0</td>\n",
       "      <td>0.000000</td>\n",
       "      <td>0.000000</td>\n",
       "      <td>0.000000</td>\n",
       "      <td>0.000000</td>\n",
       "    </tr>\n",
       "    <tr>\n",
       "      <th>25%</th>\n",
       "      <td>1.554419e+09</td>\n",
       "      <td>2533.000000</td>\n",
       "      <td>0.000000</td>\n",
       "      <td>1.000000</td>\n",
       "      <td>0.000000</td>\n",
       "      <td>0.000000</td>\n",
       "      <td>100.000000</td>\n",
       "      <td>0.0</td>\n",
       "      <td>0.000000</td>\n",
       "      <td>0.000000</td>\n",
       "      <td>0.000000</td>\n",
       "      <td>0.000000</td>\n",
       "    </tr>\n",
       "    <tr>\n",
       "      <th>50%</th>\n",
       "      <td>1.554619e+09</td>\n",
       "      <td>3058.000000</td>\n",
       "      <td>0.000000</td>\n",
       "      <td>1.000000</td>\n",
       "      <td>0.000000</td>\n",
       "      <td>0.000000</td>\n",
       "      <td>120.000000</td>\n",
       "      <td>0.0</td>\n",
       "      <td>2.000000</td>\n",
       "      <td>0.000000</td>\n",
       "      <td>0.000000</td>\n",
       "      <td>0.000000</td>\n",
       "    </tr>\n",
       "    <tr>\n",
       "      <th>75%</th>\n",
       "      <td>1.556223e+09</td>\n",
       "      <td>3793.000000</td>\n",
       "      <td>0.000000</td>\n",
       "      <td>4.000000</td>\n",
       "      <td>0.000000</td>\n",
       "      <td>20.000000</td>\n",
       "      <td>120.000000</td>\n",
       "      <td>0.0</td>\n",
       "      <td>3.000000</td>\n",
       "      <td>0.000000</td>\n",
       "      <td>0.010000</td>\n",
       "      <td>1.000000</td>\n",
       "    </tr>\n",
       "    <tr>\n",
       "      <th>max</th>\n",
       "      <td>1.556549e+09</td>\n",
       "      <td>53075.000000</td>\n",
       "      <td>9.000000</td>\n",
       "      <td>67.000000</td>\n",
       "      <td>21.000000</td>\n",
       "      <td>20.000000</td>\n",
       "      <td>139.000000</td>\n",
       "      <td>0.0</td>\n",
       "      <td>5.000000</td>\n",
       "      <td>100.000000</td>\n",
       "      <td>4.000000</td>\n",
       "      <td>1.000000</td>\n",
       "    </tr>\n",
       "  </tbody>\n",
       "</table>\n",
       "</div>"
      ],
      "text/plain": [
       "                 ts            PID           TRUN          TSLPI  \\\n",
       "count  1.601120e+05  160112.000000  160112.000000  160112.000000   \n",
       "mean   1.555145e+09    3256.037293       0.083092       3.916814   \n",
       "std    8.816813e+05    2071.338868       0.284315       7.856580   \n",
       "min    1.554219e+09    1007.000000       0.000000       0.000000   \n",
       "25%    1.554419e+09    2533.000000       0.000000       1.000000   \n",
       "50%    1.554619e+09    3058.000000       0.000000       1.000000   \n",
       "75%    1.556223e+09    3793.000000       0.000000       4.000000   \n",
       "max    1.556549e+09   53075.000000       9.000000      67.000000   \n",
       "\n",
       "               TSLPU           NICE            PRI      RTPR          CPUNR  \\\n",
       "count  160112.000000  160112.000000  160112.000000  160112.0  160112.000000   \n",
       "mean        0.001130       5.157471     111.654748       0.0       1.569351   \n",
       "std         0.074001       8.722292      20.521090       0.0       1.245371   \n",
       "min         0.000000       0.000000       0.000000       0.0       0.000000   \n",
       "25%         0.000000       0.000000     100.000000       0.0       0.000000   \n",
       "50%         0.000000       0.000000     120.000000       0.0       2.000000   \n",
       "75%         0.000000      20.000000     120.000000       0.0       3.000000   \n",
       "max        21.000000      20.000000     139.000000       0.0       5.000000   \n",
       "\n",
       "                 EXC            CPU          label  \n",
       "count  160112.000000  160112.000000  160112.000000  \n",
       "mean        0.017663       0.038341       0.375437  \n",
       "std         0.692833       0.188411       0.484237  \n",
       "min         0.000000       0.000000       0.000000  \n",
       "25%         0.000000       0.000000       0.000000  \n",
       "50%         0.000000       0.000000       0.000000  \n",
       "75%         0.000000       0.010000       1.000000  \n",
       "max       100.000000       4.000000       1.000000  "
      ]
     },
     "execution_count": 6,
     "metadata": {},
     "output_type": "execute_result"
    }
   ],
   "source": [
    "dataset.describe()"
   ]
  },
  {
   "cell_type": "code",
   "execution_count": 7,
   "metadata": {},
   "outputs": [
    {
     "data": {
      "text/plain": [
       "ts        0\n",
       "PID       0\n",
       "TRUN      0\n",
       "TSLPI     0\n",
       "TSLPU     0\n",
       "POLI      0\n",
       "NICE      0\n",
       "PRI       0\n",
       "RTPR      0\n",
       "CPUNR     0\n",
       "Status    0\n",
       "EXC       0\n",
       "State     0\n",
       "CPU       0\n",
       "CMD       0\n",
       "label     0\n",
       "type      0\n",
       "dtype: int64"
      ]
     },
     "execution_count": 7,
     "metadata": {},
     "output_type": "execute_result"
    }
   ],
   "source": [
    "dataset.isnull().sum()"
   ]
  },
  {
   "cell_type": "code",
   "execution_count": 8,
   "metadata": {},
   "outputs": [
    {
     "data": {
      "text/plain": [
       "atop              40831\n",
       "vmtoolsd           9304\n",
       "apache2            8347\n",
       "Xorg               5873\n",
       "nautilus           5665\n",
       "                  ...  \n",
       "<JS Helper>           1\n",
       "<gpg>                 1\n",
       "kworker/5:5+ev        1\n",
       "<udev-configu>        1\n",
       "<apt-key>             1\n",
       "Name: CMD, Length: 406, dtype: int64"
      ]
     },
     "execution_count": 8,
     "metadata": {},
     "output_type": "execute_result"
    }
   ],
   "source": [
    "dataset['CMD'].value_counts()"
   ]
  },
  {
   "cell_type": "code",
   "execution_count": 9,
   "metadata": {},
   "outputs": [
    {
     "data": {
      "text/plain": [
       "0    100000\n",
       "1     60112\n",
       "Name: label, dtype: int64"
      ]
     },
     "execution_count": 9,
     "metadata": {},
     "output_type": "execute_result"
    }
   ],
   "source": [
    "dataset['label'].value_counts()"
   ]
  },
  {
   "cell_type": "code",
   "execution_count": 10,
   "metadata": {},
   "outputs": [
    {
     "data": {
      "text/plain": [
       "normal       100000\n",
       "password      10000\n",
       "xss           10000\n",
       "dos           10000\n",
       "injection     10000\n",
       "ddos          10000\n",
       "scanning      10000\n",
       "mitm            112\n",
       "Name: type, dtype: int64"
      ]
     },
     "execution_count": 10,
     "metadata": {},
     "output_type": "execute_result"
    }
   ],
   "source": [
    "dataset['type'].value_counts()"
   ]
  },
  {
   "cell_type": "code",
   "execution_count": 11,
   "metadata": {},
   "outputs": [
    {
     "data": {
      "text/plain": [
       "S    145383\n",
       "R      8583\n",
       "E      4315\n",
       "I      1590\n",
       "D       129\n",
       "Z       112\n",
       "Name: State, dtype: int64"
      ]
     },
     "execution_count": 11,
     "metadata": {},
     "output_type": "execute_result"
    }
   ],
   "source": [
    "dataset['State'].value_counts()"
   ]
  },
  {
   "cell_type": "code",
   "execution_count": 12,
   "metadata": {},
   "outputs": [
    {
     "data": {
      "text/plain": [
       "-     125604\n",
       "0      29080\n",
       "N       2759\n",
       "NE      2620\n",
       "NS        47\n",
       "NC         1\n",
       "C          1\n",
       "Name: Status, dtype: int64"
      ]
     },
     "execution_count": 12,
     "metadata": {},
     "output_type": "execute_result"
    }
   ],
   "source": [
    "dataset['Status'].value_counts()"
   ]
  },
  {
   "cell_type": "code",
   "execution_count": 13,
   "metadata": {},
   "outputs": [
    {
     "data": {
      "text/plain": [
       "norm    155797\n",
       "0         2910\n",
       "-         1405\n",
       "Name: POLI, dtype: int64"
      ]
     },
     "execution_count": 13,
     "metadata": {},
     "output_type": "execute_result"
    }
   ],
   "source": [
    "dataset['POLI'].value_counts()"
   ]
  },
  {
   "cell_type": "code",
   "execution_count": 14,
   "metadata": {},
   "outputs": [],
   "source": [
    "from sklearn.preprocessing import LabelEncoder\n",
    "LE = LabelEncoder()\n",
    "dataset[\"_CMD_\"]=LE.fit_transform(dataset.CMD)\n",
    "dataset[\"_type_\"]=LE.fit_transform(dataset.type)\n",
    "dataset[\"_POLI_\"]=LE.fit_transform(dataset.POLI)\n",
    "dataset[\"_State_\"]=LE.fit_transform(dataset.State)\n",
    "dataset[\"_Status_\"]=LE.fit_transform(dataset.Status)\n",
    "dataset.drop(['CMD','type','POLI','Status','State'],axis=1,inplace=True)"
   ]
  },
  {
   "cell_type": "code",
   "execution_count": 15,
   "metadata": {},
   "outputs": [
    {
     "name": "stdout",
     "output_type": "stream",
     "text": [
      "<class 'pandas.core.frame.DataFrame'>\n",
      "RangeIndex: 160112 entries, 0 to 160111\n",
      "Data columns (total 17 columns):\n",
      " #   Column    Non-Null Count   Dtype  \n",
      "---  ------    --------------   -----  \n",
      " 0   ts        160112 non-null  int64  \n",
      " 1   PID       160112 non-null  int64  \n",
      " 2   TRUN      160112 non-null  int64  \n",
      " 3   TSLPI     160112 non-null  int64  \n",
      " 4   TSLPU     160112 non-null  int64  \n",
      " 5   NICE      160112 non-null  int64  \n",
      " 6   PRI       160112 non-null  int64  \n",
      " 7   RTPR      160112 non-null  int64  \n",
      " 8   CPUNR     160112 non-null  int64  \n",
      " 9   EXC       160112 non-null  int64  \n",
      " 10  CPU       160112 non-null  float64\n",
      " 11  label     160112 non-null  int64  \n",
      " 12  _CMD_     160112 non-null  int32  \n",
      " 13  _type_    160112 non-null  int32  \n",
      " 14  _POLI_    160112 non-null  int32  \n",
      " 15  _State_   160112 non-null  int32  \n",
      " 16  _Status_  160112 non-null  int32  \n",
      "dtypes: float64(1), int32(5), int64(11)\n",
      "memory usage: 17.7 MB\n"
     ]
    }
   ],
   "source": [
    "dataset.info()"
   ]
  },
  {
   "cell_type": "code",
   "execution_count": 16,
   "metadata": {},
   "outputs": [
    {
     "data": {
      "text/html": [
       "<div>\n",
       "<style scoped>\n",
       "    .dataframe tbody tr th:only-of-type {\n",
       "        vertical-align: middle;\n",
       "    }\n",
       "\n",
       "    .dataframe tbody tr th {\n",
       "        vertical-align: top;\n",
       "    }\n",
       "\n",
       "    .dataframe thead th {\n",
       "        text-align: right;\n",
       "    }\n",
       "</style>\n",
       "<table border=\"1\" class=\"dataframe\">\n",
       "  <thead>\n",
       "    <tr style=\"text-align: right;\">\n",
       "      <th></th>\n",
       "      <th>ts</th>\n",
       "      <th>PID</th>\n",
       "      <th>TRUN</th>\n",
       "      <th>TSLPI</th>\n",
       "      <th>TSLPU</th>\n",
       "      <th>NICE</th>\n",
       "      <th>PRI</th>\n",
       "      <th>RTPR</th>\n",
       "      <th>CPUNR</th>\n",
       "      <th>EXC</th>\n",
       "      <th>CPU</th>\n",
       "      <th>label</th>\n",
       "      <th>_CMD_</th>\n",
       "      <th>_type_</th>\n",
       "      <th>_POLI_</th>\n",
       "      <th>_State_</th>\n",
       "      <th>_Status_</th>\n",
       "    </tr>\n",
       "  </thead>\n",
       "  <tbody>\n",
       "    <tr>\n",
       "      <th>0</th>\n",
       "      <td>1556129658</td>\n",
       "      <td>52888</td>\n",
       "      <td>0</td>\n",
       "      <td>1</td>\n",
       "      <td>0</td>\n",
       "      <td>20</td>\n",
       "      <td>100</td>\n",
       "      <td>0</td>\n",
       "      <td>0</td>\n",
       "      <td>0</td>\n",
       "      <td>0.01</td>\n",
       "      <td>1</td>\n",
       "      <td>166</td>\n",
       "      <td>1</td>\n",
       "      <td>2</td>\n",
       "      <td>4</td>\n",
       "      <td>1</td>\n",
       "    </tr>\n",
       "    <tr>\n",
       "      <th>1</th>\n",
       "      <td>1556129738</td>\n",
       "      <td>2791</td>\n",
       "      <td>0</td>\n",
       "      <td>5</td>\n",
       "      <td>0</td>\n",
       "      <td>0</td>\n",
       "      <td>120</td>\n",
       "      <td>0</td>\n",
       "      <td>0</td>\n",
       "      <td>0</td>\n",
       "      <td>0.00</td>\n",
       "      <td>1</td>\n",
       "      <td>345</td>\n",
       "      <td>1</td>\n",
       "      <td>2</td>\n",
       "      <td>4</td>\n",
       "      <td>1</td>\n",
       "    </tr>\n",
       "    <tr>\n",
       "      <th>2</th>\n",
       "      <td>1556129778</td>\n",
       "      <td>2504</td>\n",
       "      <td>0</td>\n",
       "      <td>1</td>\n",
       "      <td>0</td>\n",
       "      <td>0</td>\n",
       "      <td>120</td>\n",
       "      <td>0</td>\n",
       "      <td>2</td>\n",
       "      <td>0</td>\n",
       "      <td>0.00</td>\n",
       "      <td>1</td>\n",
       "      <td>391</td>\n",
       "      <td>1</td>\n",
       "      <td>2</td>\n",
       "      <td>4</td>\n",
       "      <td>1</td>\n",
       "    </tr>\n",
       "    <tr>\n",
       "      <th>3</th>\n",
       "      <td>1556129788</td>\n",
       "      <td>3147</td>\n",
       "      <td>1</td>\n",
       "      <td>12</td>\n",
       "      <td>0</td>\n",
       "      <td>0</td>\n",
       "      <td>120</td>\n",
       "      <td>0</td>\n",
       "      <td>1</td>\n",
       "      <td>0</td>\n",
       "      <td>1.00</td>\n",
       "      <td>1</td>\n",
       "      <td>188</td>\n",
       "      <td>1</td>\n",
       "      <td>2</td>\n",
       "      <td>4</td>\n",
       "      <td>1</td>\n",
       "    </tr>\n",
       "    <tr>\n",
       "      <th>4</th>\n",
       "      <td>1556129798</td>\n",
       "      <td>52888</td>\n",
       "      <td>0</td>\n",
       "      <td>1</td>\n",
       "      <td>0</td>\n",
       "      <td>20</td>\n",
       "      <td>100</td>\n",
       "      <td>0</td>\n",
       "      <td>0</td>\n",
       "      <td>0</td>\n",
       "      <td>0.01</td>\n",
       "      <td>1</td>\n",
       "      <td>166</td>\n",
       "      <td>1</td>\n",
       "      <td>2</td>\n",
       "      <td>4</td>\n",
       "      <td>1</td>\n",
       "    </tr>\n",
       "  </tbody>\n",
       "</table>\n",
       "</div>"
      ],
      "text/plain": [
       "           ts    PID  TRUN  TSLPI  TSLPU  NICE  PRI  RTPR  CPUNR  EXC   CPU  \\\n",
       "0  1556129658  52888     0      1      0    20  100     0      0    0  0.01   \n",
       "1  1556129738   2791     0      5      0     0  120     0      0    0  0.00   \n",
       "2  1556129778   2504     0      1      0     0  120     0      2    0  0.00   \n",
       "3  1556129788   3147     1     12      0     0  120     0      1    0  1.00   \n",
       "4  1556129798  52888     0      1      0    20  100     0      0    0  0.01   \n",
       "\n",
       "   label  _CMD_  _type_  _POLI_  _State_  _Status_  \n",
       "0      1    166       1       2        4         1  \n",
       "1      1    345       1       2        4         1  \n",
       "2      1    391       1       2        4         1  \n",
       "3      1    188       1       2        4         1  \n",
       "4      1    166       1       2        4         1  "
      ]
     },
     "execution_count": 16,
     "metadata": {},
     "output_type": "execute_result"
    }
   ],
   "source": [
    "dataset.head()"
   ]
  },
  {
   "cell_type": "code",
   "execution_count": 17,
   "metadata": {},
   "outputs": [
    {
     "data": {
      "text/plain": [
       "4    100000\n",
       "7     10000\n",
       "6     10000\n",
       "5     10000\n",
       "2     10000\n",
       "1     10000\n",
       "0     10000\n",
       "3       112\n",
       "Name: _type_, dtype: int64"
      ]
     },
     "execution_count": 17,
     "metadata": {},
     "output_type": "execute_result"
    }
   ],
   "source": [
    "dataset[\"_type_\"].value_counts()"
   ]
  },
  {
   "cell_type": "code",
   "execution_count": 18,
   "metadata": {},
   "outputs": [],
   "source": [
    "y=dataset['_type_']"
   ]
  },
  {
   "cell_type": "code",
   "execution_count": 19,
   "metadata": {},
   "outputs": [],
   "source": [
    "x=dataset.drop(['_type_'], axis=1)"
   ]
  },
  {
   "cell_type": "code",
   "execution_count": 20,
   "metadata": {},
   "outputs": [],
   "source": [
    "from sklearn.preprocessing import Normalizer\n",
    "n_scalar = Normalizer()\n",
    "xdataset = dataset.iloc[:,:-1]\n",
    "col_names = xdataset.columns\n",
    "normdataset = n_scalar.fit_transform(dataset.drop('_type_',1))\n",
    "dataset = pd.DataFrame(normdataset, columns = col_names)"
   ]
  },
  {
   "cell_type": "code",
   "execution_count": 21,
   "metadata": {},
   "outputs": [
    {
     "data": {
      "text/html": [
       "<div>\n",
       "<style scoped>\n",
       "    .dataframe tbody tr th:only-of-type {\n",
       "        vertical-align: middle;\n",
       "    }\n",
       "\n",
       "    .dataframe tbody tr th {\n",
       "        vertical-align: top;\n",
       "    }\n",
       "\n",
       "    .dataframe thead th {\n",
       "        text-align: right;\n",
       "    }\n",
       "</style>\n",
       "<table border=\"1\" class=\"dataframe\">\n",
       "  <thead>\n",
       "    <tr style=\"text-align: right;\">\n",
       "      <th></th>\n",
       "      <th>ts</th>\n",
       "      <th>PID</th>\n",
       "      <th>TRUN</th>\n",
       "      <th>TSLPI</th>\n",
       "      <th>TSLPU</th>\n",
       "      <th>NICE</th>\n",
       "      <th>PRI</th>\n",
       "      <th>RTPR</th>\n",
       "      <th>CPUNR</th>\n",
       "      <th>EXC</th>\n",
       "      <th>CPU</th>\n",
       "      <th>label</th>\n",
       "      <th>_CMD_</th>\n",
       "      <th>_type_</th>\n",
       "      <th>_POLI_</th>\n",
       "      <th>_State_</th>\n",
       "    </tr>\n",
       "  </thead>\n",
       "  <tbody>\n",
       "    <tr>\n",
       "      <th>0</th>\n",
       "      <td>1.0</td>\n",
       "      <td>0.000034</td>\n",
       "      <td>0.000000e+00</td>\n",
       "      <td>6.426200e-10</td>\n",
       "      <td>0.0</td>\n",
       "      <td>1.285240e-08</td>\n",
       "      <td>6.426200e-08</td>\n",
       "      <td>0.0</td>\n",
       "      <td>0.000000e+00</td>\n",
       "      <td>0.0</td>\n",
       "      <td>6.426200e-12</td>\n",
       "      <td>6.426200e-10</td>\n",
       "      <td>1.066749e-07</td>\n",
       "      <td>1.285240e-09</td>\n",
       "      <td>2.570480e-09</td>\n",
       "      <td>6.426200e-10</td>\n",
       "    </tr>\n",
       "    <tr>\n",
       "      <th>1</th>\n",
       "      <td>1.0</td>\n",
       "      <td>0.000002</td>\n",
       "      <td>0.000000e+00</td>\n",
       "      <td>3.213100e-09</td>\n",
       "      <td>0.0</td>\n",
       "      <td>0.000000e+00</td>\n",
       "      <td>7.711439e-08</td>\n",
       "      <td>0.0</td>\n",
       "      <td>0.000000e+00</td>\n",
       "      <td>0.0</td>\n",
       "      <td>0.000000e+00</td>\n",
       "      <td>6.426199e-10</td>\n",
       "      <td>2.217039e-07</td>\n",
       "      <td>1.285240e-09</td>\n",
       "      <td>2.570480e-09</td>\n",
       "      <td>6.426199e-10</td>\n",
       "    </tr>\n",
       "    <tr>\n",
       "      <th>2</th>\n",
       "      <td>1.0</td>\n",
       "      <td>0.000002</td>\n",
       "      <td>0.000000e+00</td>\n",
       "      <td>6.426199e-10</td>\n",
       "      <td>0.0</td>\n",
       "      <td>0.000000e+00</td>\n",
       "      <td>7.711439e-08</td>\n",
       "      <td>0.0</td>\n",
       "      <td>1.285240e-09</td>\n",
       "      <td>0.0</td>\n",
       "      <td>0.000000e+00</td>\n",
       "      <td>6.426199e-10</td>\n",
       "      <td>2.512644e-07</td>\n",
       "      <td>1.285240e-09</td>\n",
       "      <td>2.570480e-09</td>\n",
       "      <td>6.426199e-10</td>\n",
       "    </tr>\n",
       "    <tr>\n",
       "      <th>3</th>\n",
       "      <td>1.0</td>\n",
       "      <td>0.000002</td>\n",
       "      <td>6.426199e-10</td>\n",
       "      <td>7.711439e-09</td>\n",
       "      <td>0.0</td>\n",
       "      <td>0.000000e+00</td>\n",
       "      <td>7.711439e-08</td>\n",
       "      <td>0.0</td>\n",
       "      <td>6.426199e-10</td>\n",
       "      <td>0.0</td>\n",
       "      <td>6.426199e-10</td>\n",
       "      <td>6.426199e-10</td>\n",
       "      <td>1.208125e-07</td>\n",
       "      <td>1.285240e-09</td>\n",
       "      <td>2.570480e-09</td>\n",
       "      <td>6.426199e-10</td>\n",
       "    </tr>\n",
       "    <tr>\n",
       "      <th>4</th>\n",
       "      <td>1.0</td>\n",
       "      <td>0.000034</td>\n",
       "      <td>0.000000e+00</td>\n",
       "      <td>6.426199e-10</td>\n",
       "      <td>0.0</td>\n",
       "      <td>1.285240e-08</td>\n",
       "      <td>6.426199e-08</td>\n",
       "      <td>0.0</td>\n",
       "      <td>0.000000e+00</td>\n",
       "      <td>0.0</td>\n",
       "      <td>6.426199e-12</td>\n",
       "      <td>6.426199e-10</td>\n",
       "      <td>1.066749e-07</td>\n",
       "      <td>1.285240e-09</td>\n",
       "      <td>2.570480e-09</td>\n",
       "      <td>6.426199e-10</td>\n",
       "    </tr>\n",
       "  </tbody>\n",
       "</table>\n",
       "</div>"
      ],
      "text/plain": [
       "    ts       PID          TRUN         TSLPI  TSLPU          NICE  \\\n",
       "0  1.0  0.000034  0.000000e+00  6.426200e-10    0.0  1.285240e-08   \n",
       "1  1.0  0.000002  0.000000e+00  3.213100e-09    0.0  0.000000e+00   \n",
       "2  1.0  0.000002  0.000000e+00  6.426199e-10    0.0  0.000000e+00   \n",
       "3  1.0  0.000002  6.426199e-10  7.711439e-09    0.0  0.000000e+00   \n",
       "4  1.0  0.000034  0.000000e+00  6.426199e-10    0.0  1.285240e-08   \n",
       "\n",
       "            PRI  RTPR         CPUNR  EXC           CPU         label  \\\n",
       "0  6.426200e-08   0.0  0.000000e+00  0.0  6.426200e-12  6.426200e-10   \n",
       "1  7.711439e-08   0.0  0.000000e+00  0.0  0.000000e+00  6.426199e-10   \n",
       "2  7.711439e-08   0.0  1.285240e-09  0.0  0.000000e+00  6.426199e-10   \n",
       "3  7.711439e-08   0.0  6.426199e-10  0.0  6.426199e-10  6.426199e-10   \n",
       "4  6.426199e-08   0.0  0.000000e+00  0.0  6.426199e-12  6.426199e-10   \n",
       "\n",
       "          _CMD_        _type_        _POLI_       _State_  \n",
       "0  1.066749e-07  1.285240e-09  2.570480e-09  6.426200e-10  \n",
       "1  2.217039e-07  1.285240e-09  2.570480e-09  6.426199e-10  \n",
       "2  2.512644e-07  1.285240e-09  2.570480e-09  6.426199e-10  \n",
       "3  1.208125e-07  1.285240e-09  2.570480e-09  6.426199e-10  \n",
       "4  1.066749e-07  1.285240e-09  2.570480e-09  6.426199e-10  "
      ]
     },
     "execution_count": 21,
     "metadata": {},
     "output_type": "execute_result"
    }
   ],
   "source": [
    "dataset.head()"
   ]
  },
  {
   "cell_type": "code",
   "execution_count": 22,
   "metadata": {},
   "outputs": [
    {
     "data": {
      "text/plain": [
       "4    100000\n",
       "7     10000\n",
       "6     10000\n",
       "5     10000\n",
       "2     10000\n",
       "1     10000\n",
       "0     10000\n",
       "3       112\n",
       "Name: _type_, dtype: int64"
      ]
     },
     "execution_count": 22,
     "metadata": {},
     "output_type": "execute_result"
    }
   ],
   "source": [
    "y.value_counts()"
   ]
  },
  {
   "cell_type": "code",
   "execution_count": 23,
   "metadata": {},
   "outputs": [],
   "source": [
    "import imblearn\n",
    "from imblearn.over_sampling import RandomOverSampler\n",
    "s_strategy = {0: 10000, 1: 10000, 2:10000, 3:10000, 4:100000, 5:10000, 6: 10000, 7: 10000}\n",
    "ro=RandomOverSampler(sampling_strategy=s_strategy,random_state=1)\n",
    "Xres1,yres1=ro.fit_resample(dataset,y)"
   ]
  },
  {
   "cell_type": "code",
   "execution_count": 24,
   "metadata": {},
   "outputs": [
    {
     "data": {
      "text/plain": [
       "4    100000\n",
       "7     10000\n",
       "6     10000\n",
       "5     10000\n",
       "3     10000\n",
       "2     10000\n",
       "1     10000\n",
       "0     10000\n",
       "Name: _type_, dtype: int64"
      ]
     },
     "execution_count": 24,
     "metadata": {},
     "output_type": "execute_result"
    }
   ],
   "source": [
    "yres1.value_counts()"
   ]
  },
  {
   "cell_type": "code",
   "execution_count": 25,
   "metadata": {},
   "outputs": [],
   "source": [
    "from imblearn.under_sampling import RandomUnderSampler\n",
    "s_strategy = {0: 10000, 1: 10000, 2:10000, 3:10000, 4:10000, 5:10000, 6: 10000, 7: 10000}\n",
    "ro=RandomUnderSampler(sampling_strategy=s_strategy,random_state=1)\n",
    "Xr1,yr1=ro.fit_resample(Xres1,yres1)"
   ]
  },
  {
   "cell_type": "code",
   "execution_count": 26,
   "metadata": {},
   "outputs": [],
   "source": [
    "from sklearn import model_selection\n",
    "from sklearn.model_selection import StratifiedKFold,KFold,cross_val_score\n",
    "from numpy import mean"
   ]
  },
  {
   "cell_type": "code",
   "execution_count": 27,
   "metadata": {},
   "outputs": [],
   "source": [
    "X_train, X_test, y_train, y_test = model_selection.train_test_split(Xr1,yr1, test_size=0.25, random_state=42, stratify=yr1)"
   ]
  },
  {
   "cell_type": "code",
   "execution_count": 28,
   "metadata": {},
   "outputs": [
    {
     "data": {
      "text/plain": [
       "0.9523"
      ]
     },
     "execution_count": 28,
     "metadata": {},
     "output_type": "execute_result"
    }
   ],
   "source": [
    "import lightgbm as lgbm\n",
    "from lightgbm import LGBMClassifier\n",
    "model = LGBMClassifier(random_state=42)\n",
    "model.fit(X_train,y_train)\n",
    "model.score(X_test,y_test)"
   ]
  },
  {
   "cell_type": "code",
   "execution_count": 30,
   "metadata": {},
   "outputs": [
    {
     "name": "stderr",
     "output_type": "stream",
     "text": [
      "[Parallel(n_jobs=-1)]: Using backend LokyBackend with 8 concurrent workers.\n",
      "[Parallel(n_jobs=-1)]: Done   6 out of  10 | elapsed:   56.1s remaining:   37.4s\n",
      "[Parallel(n_jobs=-1)]: Done  10 out of  10 | elapsed:  1.1min finished\n",
      "[Parallel(n_jobs=-1)]: Using backend LokyBackend with 8 concurrent workers.\n",
      "[Parallel(n_jobs=-1)]: Done   6 out of  10 | elapsed:   24.9s remaining:   16.5s\n",
      "[Parallel(n_jobs=-1)]: Done  10 out of  10 | elapsed:   32.6s finished\n"
     ]
    }
   ],
   "source": [
    "from sklearn.model_selection import StratifiedKFold, KFold, cross_val_score\n",
    "from sklearn.ensemble import AdaBoostClassifier\n",
    "from numpy import mean\n",
    "model = LGBMClassifier(random_state=42)\n",
    "def evaluate_model(model):\n",
    "    K_Fold = KFold(n_splits=10)\n",
    "    score_of_kfold = cross_val_score(model, X_train, y_train, scoring='accuracy', cv=K_Fold, n_jobs=-1, verbose = 1, error_score='raise')\n",
    "    cv = StratifiedKFold(n_splits=10,shuffle=True, random_state=42)\n",
    "    score_of_stratified = cross_val_score(model, X_train, y_train, scoring='accuracy', cv=cv, n_jobs=-1, verbose = 1, error_score='raise')\n",
    "    list_of_scores = [mean(score_of_kfold),mean(score_of_stratified)]\n",
    "    return list_of_scores\n",
    "final_scores = (evaluate_model(model))"
   ]
  },
  {
   "cell_type": "code",
   "execution_count": 31,
   "metadata": {},
   "outputs": [
    {
     "data": {
      "text/plain": [
       "[0.9489333333333334, 0.9494666666666667]"
      ]
     },
     "execution_count": 31,
     "metadata": {},
     "output_type": "execute_result"
    }
   ],
   "source": [
    "final_scores"
   ]
  },
  {
   "cell_type": "code",
   "execution_count": 32,
   "metadata": {},
   "outputs": [],
   "source": [
    "from sklearn.metrics import classification_report,confusion_matrix\n",
    "from sklearn import metrics"
   ]
  },
  {
   "cell_type": "code",
   "execution_count": 33,
   "metadata": {},
   "outputs": [],
   "source": [
    "model.fit(X_train, y_train)\n",
    "pred1=model.predict(X_test)"
   ]
  },
  {
   "cell_type": "code",
   "execution_count": 34,
   "metadata": {},
   "outputs": [
    {
     "data": {
      "text/plain": [
       "array([[2496,    4,    0,    0,    0,    0,    0,    0],\n",
       "       [   6, 2298,  196,    0,    0,    0,    0,    0],\n",
       "       [   0,  744, 1756,    0,    0,    0,    0,    0],\n",
       "       [   0,    0,    0, 2500,    0,    0,    0,    0],\n",
       "       [   0,    0,    0,    0, 2500,    0,    0,    0],\n",
       "       [   0,    0,    0,    0,    0, 2498,    0,    2],\n",
       "       [   1,    0,    0,    0,    0,    0, 2499,    0],\n",
       "       [   0,    0,    0,    0,    0,    1,    0, 2499]], dtype=int64)"
      ]
     },
     "execution_count": 34,
     "metadata": {},
     "output_type": "execute_result"
    }
   ],
   "source": [
    "confusion_matrix(y_test,pred1)"
   ]
  },
  {
   "cell_type": "code",
   "execution_count": 35,
   "metadata": {},
   "outputs": [
    {
     "data": {
      "text/html": [
       "<div>\n",
       "<style scoped>\n",
       "    .dataframe tbody tr th:only-of-type {\n",
       "        vertical-align: middle;\n",
       "    }\n",
       "\n",
       "    .dataframe tbody tr th {\n",
       "        vertical-align: top;\n",
       "    }\n",
       "\n",
       "    .dataframe thead th {\n",
       "        text-align: right;\n",
       "    }\n",
       "</style>\n",
       "<table border=\"1\" class=\"dataframe\">\n",
       "  <thead>\n",
       "    <tr style=\"text-align: right;\">\n",
       "      <th></th>\n",
       "      <th>precision</th>\n",
       "      <th>recall</th>\n",
       "      <th>f1-score</th>\n",
       "      <th>support</th>\n",
       "    </tr>\n",
       "  </thead>\n",
       "  <tbody>\n",
       "    <tr>\n",
       "      <th>3</th>\n",
       "      <td>1.000000</td>\n",
       "      <td>1.0000</td>\n",
       "      <td>1.000000</td>\n",
       "      <td>2500.0000</td>\n",
       "    </tr>\n",
       "    <tr>\n",
       "      <th>4</th>\n",
       "      <td>1.000000</td>\n",
       "      <td>1.0000</td>\n",
       "      <td>1.000000</td>\n",
       "      <td>2500.0000</td>\n",
       "    </tr>\n",
       "    <tr>\n",
       "      <th>6</th>\n",
       "      <td>1.000000</td>\n",
       "      <td>0.9996</td>\n",
       "      <td>0.999800</td>\n",
       "      <td>2500.0000</td>\n",
       "    </tr>\n",
       "    <tr>\n",
       "      <th>7</th>\n",
       "      <td>0.999200</td>\n",
       "      <td>0.9996</td>\n",
       "      <td>0.999400</td>\n",
       "      <td>2500.0000</td>\n",
       "    </tr>\n",
       "    <tr>\n",
       "      <th>5</th>\n",
       "      <td>0.999600</td>\n",
       "      <td>0.9992</td>\n",
       "      <td>0.999400</td>\n",
       "      <td>2500.0000</td>\n",
       "    </tr>\n",
       "    <tr>\n",
       "      <th>0</th>\n",
       "      <td>0.997203</td>\n",
       "      <td>0.9984</td>\n",
       "      <td>0.997801</td>\n",
       "      <td>2500.0000</td>\n",
       "    </tr>\n",
       "    <tr>\n",
       "      <th>accuracy</th>\n",
       "      <td>0.952300</td>\n",
       "      <td>0.9523</td>\n",
       "      <td>0.952300</td>\n",
       "      <td>0.9523</td>\n",
       "    </tr>\n",
       "    <tr>\n",
       "      <th>macro avg</th>\n",
       "      <td>0.956253</td>\n",
       "      <td>0.9523</td>\n",
       "      <td>0.951746</td>\n",
       "      <td>20000.0000</td>\n",
       "    </tr>\n",
       "    <tr>\n",
       "      <th>weighted avg</th>\n",
       "      <td>0.956253</td>\n",
       "      <td>0.9523</td>\n",
       "      <td>0.951746</td>\n",
       "      <td>20000.0000</td>\n",
       "    </tr>\n",
       "    <tr>\n",
       "      <th>1</th>\n",
       "      <td>0.754432</td>\n",
       "      <td>0.9192</td>\n",
       "      <td>0.828705</td>\n",
       "      <td>2500.0000</td>\n",
       "    </tr>\n",
       "    <tr>\n",
       "      <th>2</th>\n",
       "      <td>0.899590</td>\n",
       "      <td>0.7024</td>\n",
       "      <td>0.788859</td>\n",
       "      <td>2500.0000</td>\n",
       "    </tr>\n",
       "  </tbody>\n",
       "</table>\n",
       "</div>"
      ],
      "text/plain": [
       "              precision  recall  f1-score     support\n",
       "3              1.000000  1.0000  1.000000   2500.0000\n",
       "4              1.000000  1.0000  1.000000   2500.0000\n",
       "6              1.000000  0.9996  0.999800   2500.0000\n",
       "7              0.999200  0.9996  0.999400   2500.0000\n",
       "5              0.999600  0.9992  0.999400   2500.0000\n",
       "0              0.997203  0.9984  0.997801   2500.0000\n",
       "accuracy       0.952300  0.9523  0.952300      0.9523\n",
       "macro avg      0.956253  0.9523  0.951746  20000.0000\n",
       "weighted avg   0.956253  0.9523  0.951746  20000.0000\n",
       "1              0.754432  0.9192  0.828705   2500.0000\n",
       "2              0.899590  0.7024  0.788859   2500.0000"
      ]
     },
     "execution_count": 35,
     "metadata": {},
     "output_type": "execute_result"
    }
   ],
   "source": [
    "model.fit(X_train,y_train)\n",
    "y_pred = model.predict(X_test)\n",
    "def get_classification_report(y_test, y_pred):\n",
    "    from sklearn import metrics\n",
    "    report = metrics.classification_report(y_test, y_pred, output_dict=True)\n",
    "    df_classification_report = pd.DataFrame(report).transpose()\n",
    "    df_classification_report = df_classification_report.sort_values(by=['f1-score'], ascending=False)\n",
    "    return df_classification_report\n",
    "get_classification_report(y_test, y_pred)"
   ]
  },
  {
   "cell_type": "code",
   "execution_count": 28,
   "metadata": {},
   "outputs": [
    {
     "data": {
      "text/plain": [
       "0.92065"
      ]
     },
     "execution_count": 28,
     "metadata": {},
     "output_type": "execute_result"
    }
   ],
   "source": [
    "from xgboost import XGBClassifier\n",
    "model = XGBClassifier(random_state=42)\n",
    "model.fit(X_train, y_train)\n",
    "model.score(X_test,y_test)"
   ]
  },
  {
   "cell_type": "code",
   "execution_count": 29,
   "metadata": {},
   "outputs": [
    {
     "name": "stdout",
     "output_type": "stream",
     "text": [
      "KFOLD CROSS VALIDATION SCORE\n",
      "------------------------------------\n",
      "KFold - 91.81 %\n"
     ]
    }
   ],
   "source": [
    "from sklearn.model_selection import StratifiedKFold,KFold,RepeatedStratifiedKFold,cross_val_score\n",
    "model = XGBClassifier(random_state=42)\n",
    "def evaluate_model(model):\n",
    "    KF=KFold(n_splits=10)\n",
    "    score1 = cross_val_score(model, X_train, y_train, scoring='accuracy', cv=KF)\n",
    "    list_scores=[mean(score1)]\n",
    "    return list_scores\n",
    "scores = evaluate_model(model)\n",
    "names=[\"KFold\"]\n",
    "print(\"KFOLD CROSS VALIDATION SCORE\")\n",
    "print(\"------------------------------------\")\n",
    "for (i,j) in zip(scores,names):\n",
    "    print(j,\"-\",round(i*100,2),'%')"
   ]
  },
  {
   "cell_type": "code",
   "execution_count": 29,
   "metadata": {},
   "outputs": [],
   "source": [
    "from sklearn import model_selection\n",
    "from sklearn.model_selection import StratifiedKFold,KFold,RepeatedStratifiedKFold,cross_val_score\n",
    "from xgboost import XGBClassifier\n",
    "from numpy import mean"
   ]
  },
  {
   "cell_type": "code",
   "execution_count": 30,
   "metadata": {},
   "outputs": [
    {
     "data": {
      "text/plain": [
       "0.92065"
      ]
     },
     "execution_count": 30,
     "metadata": {},
     "output_type": "execute_result"
    }
   ],
   "source": [
    "model = XGBClassifier(random_state=42)\n",
    "model.fit(X_train, y_train)\n",
    "model.score(X_test,y_test)"
   ]
  },
  {
   "cell_type": "code",
   "execution_count": 31,
   "metadata": {},
   "outputs": [],
   "source": [
    "model = XGBClassifier(random_state=42)\n",
    "def evaluate_model(model):    \n",
    "    KF=KFold(n_splits=10)\n",
    "    score1 = cross_val_score(model, X_train, y_train, scoring='accuracy', cv=KF) \n",
    "    list_scores=[mean(score1)]\n",
    "    return list_scores\n",
    "scores = evaluate_model(model)"
   ]
  },
  {
   "cell_type": "code",
   "execution_count": 32,
   "metadata": {},
   "outputs": [
    {
     "name": "stdout",
     "output_type": "stream",
     "text": [
      "KFOLD CROSS VALIDATION SCORE\n",
      "------------------------------------\n",
      "KFold - 91.81 %\n"
     ]
    }
   ],
   "source": [
    "names=[\"KFold\"]\n",
    "print(\"KFOLD CROSS VALIDATION SCORE\")\n",
    "print(\"------------------------------------\")\n",
    "for (i,j) in zip(scores,names):\n",
    "    print(j,\"-\",round(i*100,2),'%')"
   ]
  },
  {
   "cell_type": "code",
   "execution_count": 33,
   "metadata": {},
   "outputs": [],
   "source": [
    "params={'max_depth':[3], 'n_estimators': [250,400],'learning_rate': [0.01,0.1], 'subsample':[0.6,0.9]}"
   ]
  },
  {
   "cell_type": "code",
   "execution_count": 37,
   "metadata": {},
   "outputs": [],
   "source": [
    "from sklearn.model_selection import GridSearchCV"
   ]
  },
  {
   "cell_type": "code",
   "execution_count": 38,
   "metadata": {},
   "outputs": [],
   "source": [
    "grid = GridSearchCV(XGBClassifier(),params,refit=True,verbose=3)"
   ]
  },
  {
   "cell_type": "code",
   "execution_count": 39,
   "metadata": {},
   "outputs": [
    {
     "name": "stdout",
     "output_type": "stream",
     "text": [
      "Fitting 5 folds for each of 8 candidates, totalling 40 fits\n",
      "[CV] learning_rate=0.01, max_depth=3, n_estimators=250, subsample=0.6 \n"
     ]
    },
    {
     "name": "stderr",
     "output_type": "stream",
     "text": [
      "[Parallel(n_jobs=1)]: Using backend SequentialBackend with 1 concurrent workers.\n"
     ]
    },
    {
     "name": "stdout",
     "output_type": "stream",
     "text": [
      "[CV]  learning_rate=0.01, max_depth=3, n_estimators=250, subsample=0.6, score=0.855, total= 1.5min\n",
      "[CV] learning_rate=0.01, max_depth=3, n_estimators=250, subsample=0.6 \n"
     ]
    },
    {
     "name": "stderr",
     "output_type": "stream",
     "text": [
      "[Parallel(n_jobs=1)]: Done   1 out of   1 | elapsed:  1.5min remaining:    0.0s\n"
     ]
    },
    {
     "name": "stdout",
     "output_type": "stream",
     "text": [
      "[CV]  learning_rate=0.01, max_depth=3, n_estimators=250, subsample=0.6, score=0.851, total= 1.5min\n",
      "[CV] learning_rate=0.01, max_depth=3, n_estimators=250, subsample=0.6 \n"
     ]
    },
    {
     "name": "stderr",
     "output_type": "stream",
     "text": [
      "[Parallel(n_jobs=1)]: Done   2 out of   2 | elapsed:  3.0min remaining:    0.0s\n"
     ]
    },
    {
     "name": "stdout",
     "output_type": "stream",
     "text": [
      "[CV]  learning_rate=0.01, max_depth=3, n_estimators=250, subsample=0.6, score=0.857, total= 1.5min\n",
      "[CV] learning_rate=0.01, max_depth=3, n_estimators=250, subsample=0.6 \n",
      "[CV]  learning_rate=0.01, max_depth=3, n_estimators=250, subsample=0.6, score=0.852, total= 1.4min\n",
      "[CV] learning_rate=0.01, max_depth=3, n_estimators=250, subsample=0.6 \n",
      "[CV]  learning_rate=0.01, max_depth=3, n_estimators=250, subsample=0.6, score=0.853, total= 1.4min\n",
      "[CV] learning_rate=0.01, max_depth=3, n_estimators=250, subsample=0.9 \n",
      "[CV]  learning_rate=0.01, max_depth=3, n_estimators=250, subsample=0.9, score=0.854, total= 1.2min\n",
      "[CV] learning_rate=0.01, max_depth=3, n_estimators=250, subsample=0.9 \n",
      "[CV]  learning_rate=0.01, max_depth=3, n_estimators=250, subsample=0.9, score=0.850, total= 1.2min\n",
      "[CV] learning_rate=0.01, max_depth=3, n_estimators=250, subsample=0.9 \n",
      "[CV]  learning_rate=0.01, max_depth=3, n_estimators=250, subsample=0.9, score=0.857, total= 1.2min\n",
      "[CV] learning_rate=0.01, max_depth=3, n_estimators=250, subsample=0.9 \n",
      "[CV]  learning_rate=0.01, max_depth=3, n_estimators=250, subsample=0.9, score=0.852, total= 1.3min\n",
      "[CV] learning_rate=0.01, max_depth=3, n_estimators=250, subsample=0.9 \n",
      "[CV]  learning_rate=0.01, max_depth=3, n_estimators=250, subsample=0.9, score=0.852, total= 1.2min\n",
      "[CV] learning_rate=0.01, max_depth=3, n_estimators=400, subsample=0.6 \n",
      "[CV]  learning_rate=0.01, max_depth=3, n_estimators=400, subsample=0.6, score=0.867, total= 2.1min\n",
      "[CV] learning_rate=0.01, max_depth=3, n_estimators=400, subsample=0.6 \n",
      "[CV]  learning_rate=0.01, max_depth=3, n_estimators=400, subsample=0.6, score=0.868, total= 2.2min\n",
      "[CV] learning_rate=0.01, max_depth=3, n_estimators=400, subsample=0.6 \n",
      "[CV]  learning_rate=0.01, max_depth=3, n_estimators=400, subsample=0.6, score=0.873, total= 2.2min\n",
      "[CV] learning_rate=0.01, max_depth=3, n_estimators=400, subsample=0.6 \n",
      "[CV]  learning_rate=0.01, max_depth=3, n_estimators=400, subsample=0.6, score=0.869, total= 2.1min\n",
      "[CV] learning_rate=0.01, max_depth=3, n_estimators=400, subsample=0.6 \n",
      "[CV]  learning_rate=0.01, max_depth=3, n_estimators=400, subsample=0.6, score=0.867, total= 1.6min\n",
      "[CV] learning_rate=0.01, max_depth=3, n_estimators=400, subsample=0.9 \n",
      "[CV]  learning_rate=0.01, max_depth=3, n_estimators=400, subsample=0.9, score=0.867, total= 1.7min\n",
      "[CV] learning_rate=0.01, max_depth=3, n_estimators=400, subsample=0.9 \n",
      "[CV]  learning_rate=0.01, max_depth=3, n_estimators=400, subsample=0.9, score=0.867, total= 2.0min\n",
      "[CV] learning_rate=0.01, max_depth=3, n_estimators=400, subsample=0.9 \n",
      "[CV]  learning_rate=0.01, max_depth=3, n_estimators=400, subsample=0.9, score=0.873, total= 2.0min\n",
      "[CV] learning_rate=0.01, max_depth=3, n_estimators=400, subsample=0.9 \n",
      "[CV]  learning_rate=0.01, max_depth=3, n_estimators=400, subsample=0.9, score=0.869, total= 2.1min\n",
      "[CV] learning_rate=0.01, max_depth=3, n_estimators=400, subsample=0.9 \n",
      "[CV]  learning_rate=0.01, max_depth=3, n_estimators=400, subsample=0.9, score=0.868, total= 2.2min\n",
      "[CV] learning_rate=0.1, max_depth=3, n_estimators=250, subsample=0.6 .\n",
      "[CV]  learning_rate=0.1, max_depth=3, n_estimators=250, subsample=0.6, score=0.940, total= 1.5min\n",
      "[CV] learning_rate=0.1, max_depth=3, n_estimators=250, subsample=0.6 .\n",
      "[CV]  learning_rate=0.1, max_depth=3, n_estimators=250, subsample=0.6, score=0.941, total= 1.7min\n",
      "[CV] learning_rate=0.1, max_depth=3, n_estimators=250, subsample=0.6 .\n",
      "[CV]  learning_rate=0.1, max_depth=3, n_estimators=250, subsample=0.6, score=0.943, total= 1.6min\n",
      "[CV] learning_rate=0.1, max_depth=3, n_estimators=250, subsample=0.6 .\n",
      "[CV]  learning_rate=0.1, max_depth=3, n_estimators=250, subsample=0.6, score=0.940, total= 1.5min\n",
      "[CV] learning_rate=0.1, max_depth=3, n_estimators=250, subsample=0.6 .\n",
      "[CV]  learning_rate=0.1, max_depth=3, n_estimators=250, subsample=0.6, score=0.946, total= 1.5min\n",
      "[CV] learning_rate=0.1, max_depth=3, n_estimators=250, subsample=0.9 .\n",
      "[CV]  learning_rate=0.1, max_depth=3, n_estimators=250, subsample=0.9, score=0.939, total= 1.4min\n",
      "[CV] learning_rate=0.1, max_depth=3, n_estimators=250, subsample=0.9 .\n",
      "[CV]  learning_rate=0.1, max_depth=3, n_estimators=250, subsample=0.9, score=0.939, total= 1.5min\n",
      "[CV] learning_rate=0.1, max_depth=3, n_estimators=250, subsample=0.9 .\n",
      "[CV]  learning_rate=0.1, max_depth=3, n_estimators=250, subsample=0.9, score=0.941, total= 1.5min\n",
      "[CV] learning_rate=0.1, max_depth=3, n_estimators=250, subsample=0.9 .\n",
      "[CV]  learning_rate=0.1, max_depth=3, n_estimators=250, subsample=0.9, score=0.940, total= 1.4min\n",
      "[CV] learning_rate=0.1, max_depth=3, n_estimators=250, subsample=0.9 .\n",
      "[CV]  learning_rate=0.1, max_depth=3, n_estimators=250, subsample=0.9, score=0.945, total= 1.5min\n",
      "[CV] learning_rate=0.1, max_depth=3, n_estimators=400, subsample=0.6 .\n",
      "[CV]  learning_rate=0.1, max_depth=3, n_estimators=400, subsample=0.6, score=0.942, total= 2.3min\n",
      "[CV] learning_rate=0.1, max_depth=3, n_estimators=400, subsample=0.6 .\n",
      "[CV]  learning_rate=0.1, max_depth=3, n_estimators=400, subsample=0.6, score=0.946, total= 2.2min\n",
      "[CV] learning_rate=0.1, max_depth=3, n_estimators=400, subsample=0.6 .\n",
      "[CV]  learning_rate=0.1, max_depth=3, n_estimators=400, subsample=0.6, score=0.946, total= 2.1min\n",
      "[CV] learning_rate=0.1, max_depth=3, n_estimators=400, subsample=0.6 .\n",
      "[CV]  learning_rate=0.1, max_depth=3, n_estimators=400, subsample=0.6, score=0.945, total= 1.9min\n",
      "[CV] learning_rate=0.1, max_depth=3, n_estimators=400, subsample=0.6 .\n",
      "[CV]  learning_rate=0.1, max_depth=3, n_estimators=400, subsample=0.6, score=0.948, total= 2.1min\n",
      "[CV] learning_rate=0.1, max_depth=3, n_estimators=400, subsample=0.9 .\n",
      "[CV]  learning_rate=0.1, max_depth=3, n_estimators=400, subsample=0.9, score=0.944, total= 1.9min\n",
      "[CV] learning_rate=0.1, max_depth=3, n_estimators=400, subsample=0.9 .\n",
      "[CV]  learning_rate=0.1, max_depth=3, n_estimators=400, subsample=0.9, score=0.945, total= 1.8min\n",
      "[CV] learning_rate=0.1, max_depth=3, n_estimators=400, subsample=0.9 .\n",
      "[CV]  learning_rate=0.1, max_depth=3, n_estimators=400, subsample=0.9, score=0.946, total= 1.8min\n",
      "[CV] learning_rate=0.1, max_depth=3, n_estimators=400, subsample=0.9 .\n",
      "[CV]  learning_rate=0.1, max_depth=3, n_estimators=400, subsample=0.9, score=0.946, total= 1.8min\n",
      "[CV] learning_rate=0.1, max_depth=3, n_estimators=400, subsample=0.9 .\n",
      "[CV]  learning_rate=0.1, max_depth=3, n_estimators=400, subsample=0.9, score=0.948, total= 1.8min\n"
     ]
    },
    {
     "name": "stderr",
     "output_type": "stream",
     "text": [
      "[Parallel(n_jobs=1)]: Done  40 out of  40 | elapsed: 68.4min finished\n"
     ]
    },
    {
     "data": {
      "text/plain": [
       "GridSearchCV(estimator=XGBClassifier(),\n",
       "             param_grid={'learning_rate': [0.01, 0.1], 'max_depth': [3],\n",
       "                         'n_estimators': [250, 400], 'subsample': [0.6, 0.9]},\n",
       "             verbose=3)"
      ]
     },
     "execution_count": 39,
     "metadata": {},
     "output_type": "execute_result"
    }
   ],
   "source": [
    "grid.fit(X_train,y_train)"
   ]
  },
  {
   "cell_type": "code",
   "execution_count": 40,
   "metadata": {},
   "outputs": [
    {
     "data": {
      "text/plain": [
       "{'learning_rate': 0.1, 'max_depth': 3, 'n_estimators': 400, 'subsample': 0.9}"
      ]
     },
     "execution_count": 40,
     "metadata": {},
     "output_type": "execute_result"
    }
   ],
   "source": [
    "grid.best_params_"
   ]
  },
  {
   "cell_type": "code",
   "execution_count": 41,
   "metadata": {},
   "outputs": [
    {
     "data": {
      "text/plain": [
       "XGBClassifier(n_estimators=400, objective='multi:softprob', subsample=0.9)"
      ]
     },
     "execution_count": 41,
     "metadata": {},
     "output_type": "execute_result"
    }
   ],
   "source": [
    "grid.best_estimator_"
   ]
  },
  {
   "cell_type": "code",
   "execution_count": 42,
   "metadata": {},
   "outputs": [],
   "source": [
    "grid_predictions = grid.predict(X_test)"
   ]
  },
  {
   "cell_type": "code",
   "execution_count": 43,
   "metadata": {},
   "outputs": [
    {
     "name": "stdout",
     "output_type": "stream",
     "text": [
      "[[2486    8    6    0    0    0    0    0]\n",
      " [  12 2270  218    0    0    0    0    0]\n",
      " [   7  775 1718    0    0    0    0    0]\n",
      " [   0    0    0 2500    0    0    0    0]\n",
      " [   0    0    0    0 2500    0    0    0]\n",
      " [   0    0    0    0    0 2500    0    0]\n",
      " [   0    0    0    0    0    0 2500    0]\n",
      " [   0    0    0    0    0    4    0 2496]]\n"
     ]
    }
   ],
   "source": [
    "from sklearn.metrics import classification_report,confusion_matrix\n",
    "print(confusion_matrix(y_test,grid_predictions))"
   ]
  },
  {
   "cell_type": "code",
   "execution_count": 44,
   "metadata": {},
   "outputs": [
    {
     "name": "stdout",
     "output_type": "stream",
     "text": [
      "              precision    recall  f1-score   support\n",
      "\n",
      "           0       0.99      0.99      0.99      2500\n",
      "           1       0.74      0.91      0.82      2500\n",
      "           2       0.88      0.69      0.77      2500\n",
      "           3       1.00      1.00      1.00      2500\n",
      "           4       1.00      1.00      1.00      2500\n",
      "           5       1.00      1.00      1.00      2500\n",
      "           6       1.00      1.00      1.00      2500\n",
      "           7       1.00      1.00      1.00      2500\n",
      "\n",
      "    accuracy                           0.95     20000\n",
      "   macro avg       0.95      0.95      0.95     20000\n",
      "weighted avg       0.95      0.95      0.95     20000\n",
      "\n"
     ]
    }
   ],
   "source": [
    "print(classification_report(y_test,grid_predictions))"
   ]
  }
 ],
 "metadata": {
  "kernelspec": {
   "display_name": "Python 3",
   "language": "python",
   "name": "python3"
  },
  "language_info": {
   "codemirror_mode": {
    "name": "ipython",
    "version": 3
   },
   "file_extension": ".py",
   "mimetype": "text/x-python",
   "name": "python",
   "nbconvert_exporter": "python",
   "pygments_lexer": "ipython3",
   "version": "3.7.6"
  }
 },
 "nbformat": 4,
 "nbformat_minor": 2
}
