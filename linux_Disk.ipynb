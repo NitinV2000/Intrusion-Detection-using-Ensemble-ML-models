{
 "cells": [
  {
   "cell_type": "markdown",
   "metadata": {},
   "source": [
    "# Intrusion Detection using Adaboost and LightGBM"
   ]
  },
  {
   "cell_type": "markdown",
   "metadata": {},
   "source": [
    "## Nitin Vankadari"
   ]
  },
  {
   "cell_type": "markdown",
   "metadata": {},
   "source": [
    "##### Importing the basic libraries needed"
   ]
  },
  {
   "cell_type": "code",
   "execution_count": 1,
   "metadata": {},
   "outputs": [],
   "source": [
    "import matplotlib\n",
    "import matplotlib.pyplot as plt\n",
    "import pandas as pd\n",
    "import numpy as np\n",
    "import seaborn as sns\n",
    "import sklearn\n",
    "%matplotlib inline\n",
    "import warnings\n",
    "warnings.filterwarnings(\"ignore\")"
   ]
  },
  {
   "cell_type": "markdown",
   "metadata": {},
   "source": [
    "##### Reading the dataset"
   ]
  },
  {
   "cell_type": "code",
   "execution_count": 2,
   "metadata": {},
   "outputs": [],
   "source": [
    "dataset=pd.read_csv(\"Train_Test_Linux_disk.csv\")"
   ]
  },
  {
   "cell_type": "code",
   "execution_count": 3,
   "metadata": {},
   "outputs": [
    {
     "data": {
      "text/html": [
       "<div>\n",
       "<style scoped>\n",
       "    .dataframe tbody tr th:only-of-type {\n",
       "        vertical-align: middle;\n",
       "    }\n",
       "\n",
       "    .dataframe tbody tr th {\n",
       "        vertical-align: top;\n",
       "    }\n",
       "\n",
       "    .dataframe thead th {\n",
       "        text-align: right;\n",
       "    }\n",
       "</style>\n",
       "<table border=\"1\" class=\"dataframe\">\n",
       "  <thead>\n",
       "    <tr style=\"text-align: right;\">\n",
       "      <th></th>\n",
       "      <th>ts</th>\n",
       "      <th>PID</th>\n",
       "      <th>RDDSK</th>\n",
       "      <th>WRDSK</th>\n",
       "      <th>WCANCL</th>\n",
       "      <th>DSK</th>\n",
       "      <th>CMD</th>\n",
       "      <th>label</th>\n",
       "      <th>type</th>\n",
       "    </tr>\n",
       "  </thead>\n",
       "  <tbody>\n",
       "    <tr>\n",
       "      <th>0</th>\n",
       "      <td>1556129666</td>\n",
       "      <td>2167</td>\n",
       "      <td>108.0</td>\n",
       "      <td>0.0</td>\n",
       "      <td>0.0</td>\n",
       "      <td>0</td>\n",
       "      <td>gvfs-afc-volum</td>\n",
       "      <td>1</td>\n",
       "      <td>dos</td>\n",
       "    </tr>\n",
       "    <tr>\n",
       "      <th>1</th>\n",
       "      <td>1556129791</td>\n",
       "      <td>2044</td>\n",
       "      <td>0.0</td>\n",
       "      <td>0.0</td>\n",
       "      <td>0.0</td>\n",
       "      <td>0</td>\n",
       "      <td>at-spi2-regist</td>\n",
       "      <td>1</td>\n",
       "      <td>dos</td>\n",
       "    </tr>\n",
       "    <tr>\n",
       "      <th>2</th>\n",
       "      <td>1556129831</td>\n",
       "      <td>2234</td>\n",
       "      <td>0.0</td>\n",
       "      <td>0.0</td>\n",
       "      <td>0.0</td>\n",
       "      <td>0</td>\n",
       "      <td>gsd-smartcard</td>\n",
       "      <td>1</td>\n",
       "      <td>dos</td>\n",
       "    </tr>\n",
       "    <tr>\n",
       "      <th>3</th>\n",
       "      <td>1556129861</td>\n",
       "      <td>2257</td>\n",
       "      <td>0.0</td>\n",
       "      <td>0.0</td>\n",
       "      <td>0.0</td>\n",
       "      <td>0</td>\n",
       "      <td>gsd-sound</td>\n",
       "      <td>1</td>\n",
       "      <td>dos</td>\n",
       "    </tr>\n",
       "    <tr>\n",
       "      <th>4</th>\n",
       "      <td>1556129871</td>\n",
       "      <td>2259</td>\n",
       "      <td>0.0</td>\n",
       "      <td>0.0</td>\n",
       "      <td>0.0</td>\n",
       "      <td>0</td>\n",
       "      <td>gsd-a11y-setti</td>\n",
       "      <td>1</td>\n",
       "      <td>dos</td>\n",
       "    </tr>\n",
       "  </tbody>\n",
       "</table>\n",
       "</div>"
      ],
      "text/plain": [
       "           ts   PID  RDDSK  WRDSK  WCANCL  DSK             CMD  label type\n",
       "0  1556129666  2167  108.0    0.0     0.0    0  gvfs-afc-volum      1  dos\n",
       "1  1556129791  2044    0.0    0.0     0.0    0  at-spi2-regist      1  dos\n",
       "2  1556129831  2234    0.0    0.0     0.0    0   gsd-smartcard      1  dos\n",
       "3  1556129861  2257    0.0    0.0     0.0    0       gsd-sound      1  dos\n",
       "4  1556129871  2259    0.0    0.0     0.0    0  gsd-a11y-setti      1  dos"
      ]
     },
     "execution_count": 3,
     "metadata": {},
     "output_type": "execute_result"
    }
   ],
   "source": [
    "dataset.head()"
   ]
  },
  {
   "cell_type": "code",
   "execution_count": 4,
   "metadata": {},
   "outputs": [
    {
     "name": "stdout",
     "output_type": "stream",
     "text": [
      "<class 'pandas.core.frame.DataFrame'>\n",
      "RangeIndex: 160112 entries, 0 to 160111\n",
      "Data columns (total 9 columns):\n",
      " #   Column  Non-Null Count   Dtype  \n",
      "---  ------  --------------   -----  \n",
      " 0   ts      160112 non-null  int64  \n",
      " 1   PID     160112 non-null  int64  \n",
      " 2   RDDSK   160112 non-null  float64\n",
      " 3   WRDSK   160112 non-null  float64\n",
      " 4   WCANCL  160112 non-null  float64\n",
      " 5   DSK     160112 non-null  int64  \n",
      " 6   CMD     160112 non-null  object \n",
      " 7   label   160112 non-null  int64  \n",
      " 8   type    160112 non-null  object \n",
      "dtypes: float64(3), int64(4), object(2)\n",
      "memory usage: 11.0+ MB\n"
     ]
    }
   ],
   "source": [
    "dataset.info()"
   ]
  },
  {
   "cell_type": "markdown",
   "metadata": {},
   "source": [
    "##### 3 Float data types\n",
    "##### 4 Integer data types\n",
    "##### 2 object data types"
   ]
  },
  {
   "cell_type": "markdown",
   "metadata": {},
   "source": [
    "##### Outlier Analysis"
   ]
  },
  {
   "cell_type": "code",
   "execution_count": 5,
   "metadata": {},
   "outputs": [
    {
     "data": {
      "text/plain": [
       "{'whiskers': [<matplotlib.lines.Line2D at 0x1f5bf9e4f08>,\n",
       "  <matplotlib.lines.Line2D at 0x1f5bfa04e08>],\n",
       " 'caps': [<matplotlib.lines.Line2D at 0x1f5bfa04e88>,\n",
       "  <matplotlib.lines.Line2D at 0x1f5bfa0ff08>],\n",
       " 'boxes': [<matplotlib.lines.Line2D at 0x1f5bf9eef08>],\n",
       " 'medians': [<matplotlib.lines.Line2D at 0x1f5bfa0fe88>],\n",
       " 'fliers': [<matplotlib.lines.Line2D at 0x1f5bfa14fc8>],\n",
       " 'means': []}"
      ]
     },
     "execution_count": 5,
     "metadata": {},
     "output_type": "execute_result"
    },
    {
     "data": {
      "image/png": "[encoded data removed]",
      "text/plain": [
       "<Figure size 432x288 with 1 Axes>"
      ]
     },
     "metadata": {
      "needs_background": "light"
     },
     "output_type": "display_data"
    }
   ],
   "source": [
    "plt.boxplot(dataset.WCANCL)"
   ]
  },
  {
   "cell_type": "code",
   "execution_count": 6,
   "metadata": {},
   "outputs": [
    {
     "data": {
      "text/plain": [
       "{'whiskers': [<matplotlib.lines.Line2D at 0x1f5bfab7808>,\n",
       "  <matplotlib.lines.Line2D at 0x1f5bfab7f88>],\n",
       " 'caps': [<matplotlib.lines.Line2D at 0x1f5bfab7f08>,\n",
       "  <matplotlib.lines.Line2D at 0x1f5bfabbec8>],\n",
       " 'boxes': [<matplotlib.lines.Line2D at 0x1f5bfab2d88>],\n",
       " 'medians': [<matplotlib.lines.Line2D at 0x1f5bfabbfc8>],\n",
       " 'fliers': [<matplotlib.lines.Line2D at 0x1f5bfabfe48>],\n",
       " 'means': []}"
      ]
     },
     "execution_count": 6,
     "metadata": {},
     "output_type": "execute_result"
    },
    {
     "data": {
      "image/png": "[encoded data removed]",
      "text/plain": [
       "<Figure size 432x288 with 1 Axes>"
      ]
     },
     "metadata": {
      "needs_background": "light"
     },
     "output_type": "display_data"
    }
   ],
   "source": [
    "plt.boxplot(dataset.WRDSK)"
   ]
  },
  {
   "cell_type": "code",
   "execution_count": 7,
   "metadata": {},
   "outputs": [
    {
     "data": {
      "text/plain": [
       "{'whiskers': [<matplotlib.lines.Line2D at 0x1f5bfb2dac8>,\n",
       "  <matplotlib.lines.Line2D at 0x1f5bfb2dbc8>],\n",
       " 'caps': [<matplotlib.lines.Line2D at 0x1f5bfb30a08>,\n",
       "  <matplotlib.lines.Line2D at 0x1f5bfb30b08>],\n",
       " 'boxes': [<matplotlib.lines.Line2D at 0x1f5bfb25fc8>],\n",
       " 'medians': [<matplotlib.lines.Line2D at 0x1f5bfb34b08>],\n",
       " 'fliers': [<matplotlib.lines.Line2D at 0x1f5bfb34c08>],\n",
       " 'means': []}"
      ]
     },
     "execution_count": 7,
     "metadata": {},
     "output_type": "execute_result"
    },
    {
     "data": {
      "image/png": "[encoded data removed]",
      "text/plain": [
       "<Figure size 432x288 with 1 Axes>"
      ]
     },
     "metadata": {
      "needs_background": "light"
     },
     "output_type": "display_data"
    }
   ],
   "source": [
    "plt.boxplot(dataset.RDDSK)"
   ]
  },
  {
   "cell_type": "code",
   "execution_count": 8,
   "metadata": {},
   "outputs": [
    {
     "data": {
      "text/plain": [
       "<matplotlib.axes._subplots.AxesSubplot at 0x1f5bfb5e688>"
      ]
     },
     "execution_count": 8,
     "metadata": {},
     "output_type": "execute_result"
    },
    {
     "data": {
      "image/png": "[encoded data removed]",
      "text/plain": [
       "<Figure size 432x288 with 1 Axes>"
      ]
     },
     "metadata": {
      "needs_background": "light"
     },
     "output_type": "display_data"
    }
   ],
   "source": [
    "sns.countplot(dataset.type)"
   ]
  },
  {
   "cell_type": "markdown",
   "metadata": {},
   "source": [
    "##### In the target variable most of the values are normal and the others are almost same in number"
   ]
  },
  {
   "cell_type": "code",
   "execution_count": 9,
   "metadata": {},
   "outputs": [
    {
     "data": {
      "text/html": [
       "<div>\n",
       "<style scoped>\n",
       "    .dataframe tbody tr th:only-of-type {\n",
       "        vertical-align: middle;\n",
       "    }\n",
       "\n",
       "    .dataframe tbody tr th {\n",
       "        vertical-align: top;\n",
       "    }\n",
       "\n",
       "    .dataframe thead th {\n",
       "        text-align: right;\n",
       "    }\n",
       "</style>\n",
       "<table border=\"1\" class=\"dataframe\">\n",
       "  <thead>\n",
       "    <tr style=\"text-align: right;\">\n",
       "      <th></th>\n",
       "      <th>ts</th>\n",
       "      <th>PID</th>\n",
       "      <th>RDDSK</th>\n",
       "      <th>WRDSK</th>\n",
       "      <th>WCANCL</th>\n",
       "      <th>DSK</th>\n",
       "      <th>label</th>\n",
       "    </tr>\n",
       "  </thead>\n",
       "  <tbody>\n",
       "    <tr>\n",
       "      <th>count</th>\n",
       "      <td>1.601120e+05</td>\n",
       "      <td>160112.000000</td>\n",
       "      <td>160112.000000</td>\n",
       "      <td>160112.000000</td>\n",
       "      <td>160112.000000</td>\n",
       "      <td>160112.000000</td>\n",
       "      <td>160112.000000</td>\n",
       "    </tr>\n",
       "    <tr>\n",
       "      <th>mean</th>\n",
       "      <td>1.556534e+09</td>\n",
       "      <td>4422.386698</td>\n",
       "      <td>6.291612</td>\n",
       "      <td>7.370115</td>\n",
       "      <td>0.950859</td>\n",
       "      <td>0.285094</td>\n",
       "      <td>0.375437</td>\n",
       "    </tr>\n",
       "    <tr>\n",
       "      <th>std</th>\n",
       "      <td>3.065965e+05</td>\n",
       "      <td>3603.138417</td>\n",
       "      <td>375.296238</td>\n",
       "      <td>241.341085</td>\n",
       "      <td>189.347307</td>\n",
       "      <td>3.653392</td>\n",
       "      <td>0.484237</td>\n",
       "    </tr>\n",
       "    <tr>\n",
       "      <th>min</th>\n",
       "      <td>1.554219e+09</td>\n",
       "      <td>1007.000000</td>\n",
       "      <td>0.000000</td>\n",
       "      <td>0.000000</td>\n",
       "      <td>0.000000</td>\n",
       "      <td>0.000000</td>\n",
       "      <td>0.000000</td>\n",
       "    </tr>\n",
       "    <tr>\n",
       "      <th>25%</th>\n",
       "      <td>1.556262e+09</td>\n",
       "      <td>2123.000000</td>\n",
       "      <td>0.000000</td>\n",
       "      <td>0.000000</td>\n",
       "      <td>0.000000</td>\n",
       "      <td>0.000000</td>\n",
       "      <td>0.000000</td>\n",
       "    </tr>\n",
       "    <tr>\n",
       "      <th>50%</th>\n",
       "      <td>1.556562e+09</td>\n",
       "      <td>2938.000000</td>\n",
       "      <td>0.000000</td>\n",
       "      <td>0.000000</td>\n",
       "      <td>0.000000</td>\n",
       "      <td>0.000000</td>\n",
       "      <td>0.000000</td>\n",
       "    </tr>\n",
       "    <tr>\n",
       "      <th>75%</th>\n",
       "      <td>1.556762e+09</td>\n",
       "      <td>4075.000000</td>\n",
       "      <td>0.000000</td>\n",
       "      <td>0.000000</td>\n",
       "      <td>0.000000</td>\n",
       "      <td>0.000000</td>\n",
       "      <td>1.000000</td>\n",
       "    </tr>\n",
       "    <tr>\n",
       "      <th>max</th>\n",
       "      <td>1.556962e+09</td>\n",
       "      <td>16163.000000</td>\n",
       "      <td>61660.000000</td>\n",
       "      <td>72968.000000</td>\n",
       "      <td>72676.000000</td>\n",
       "      <td>100.000000</td>\n",
       "      <td>1.000000</td>\n",
       "    </tr>\n",
       "  </tbody>\n",
       "</table>\n",
       "</div>"
      ],
      "text/plain": [
       "                 ts            PID          RDDSK          WRDSK  \\\n",
       "count  1.601120e+05  160112.000000  160112.000000  160112.000000   \n",
       "mean   1.556534e+09    4422.386698       6.291612       7.370115   \n",
       "std    3.065965e+05    3603.138417     375.296238     241.341085   \n",
       "min    1.554219e+09    1007.000000       0.000000       0.000000   \n",
       "25%    1.556262e+09    2123.000000       0.000000       0.000000   \n",
       "50%    1.556562e+09    2938.000000       0.000000       0.000000   \n",
       "75%    1.556762e+09    4075.000000       0.000000       0.000000   \n",
       "max    1.556962e+09   16163.000000   61660.000000   72968.000000   \n",
       "\n",
       "              WCANCL            DSK          label  \n",
       "count  160112.000000  160112.000000  160112.000000  \n",
       "mean        0.950859       0.285094       0.375437  \n",
       "std       189.347307       3.653392       0.484237  \n",
       "min         0.000000       0.000000       0.000000  \n",
       "25%         0.000000       0.000000       0.000000  \n",
       "50%         0.000000       0.000000       0.000000  \n",
       "75%         0.000000       0.000000       1.000000  \n",
       "max     72676.000000     100.000000       1.000000  "
      ]
     },
     "execution_count": 9,
     "metadata": {},
     "output_type": "execute_result"
    }
   ],
   "source": [
    "dataset.describe()"
   ]
  },
  {
   "cell_type": "code",
   "execution_count": 10,
   "metadata": {},
   "outputs": [
    {
     "data": {
      "text/plain": [
       "ts        0\n",
       "PID       0\n",
       "RDDSK     0\n",
       "WRDSK     0\n",
       "WCANCL    0\n",
       "DSK       0\n",
       "CMD       0\n",
       "label     0\n",
       "type      0\n",
       "dtype: int64"
      ]
     },
     "execution_count": 10,
     "metadata": {},
     "output_type": "execute_result"
    }
   ],
   "source": [
    "dataset.isnull().sum()"
   ]
  },
  {
   "cell_type": "markdown",
   "metadata": {},
   "source": [
    "##### There are no null items in our dataset so there is no need to do something to impute them"
   ]
  },
  {
   "cell_type": "markdown",
   "metadata": {},
   "source": [
    "##### Information regarding the features of the dataset"
   ]
  },
  {
   "cell_type": "raw",
   "metadata": {},
   "source": [
    "Feature  Type     Description\n",
    "\n",
    "PID     Number   Process identifier which is active in a Linux kernel\n",
    "RDDSK   Number   Amount of data read from disk\n",
    "WRDSK   Number   Amount of data written to disk\n",
    "WCANCL  Number   Amount of data that was written but has been withdrawn\n",
    "DSK     Number   Disk occupation percentage\n",
    "CMD     String   process name which is active in a Linux kernel\n",
    "label   Number   Tag normal and attack records, where 0 indicates normal and 1 indicates attacks\n",
    "type    String   Tag attack categories, such as normal, DoS, DDoS and backdoor attacks, and normal records"
   ]
  },
  {
   "cell_type": "code",
   "execution_count": 11,
   "metadata": {},
   "outputs": [
    {
     "data": {
      "text/plain": [
       "normal       100000\n",
       "dos           10000\n",
       "xss           10000\n",
       "password      10000\n",
       "injection     10000\n",
       "ddos          10000\n",
       "scanning      10000\n",
       "mitm            112\n",
       "Name: type, dtype: int64"
      ]
     },
     "execution_count": 11,
     "metadata": {},
     "output_type": "execute_result"
    }
   ],
   "source": [
    "dataset['type'].value_counts()"
   ]
  },
  {
   "cell_type": "markdown",
   "metadata": {},
   "source": [
    "##### There are 8 types of attacks in our target variable/feature."
   ]
  },
  {
   "cell_type": "code",
   "execution_count": 12,
   "metadata": {},
   "outputs": [
    {
     "data": {
      "text/plain": [
       "apache2           34637\n",
       "atop              19601\n",
       "vmtoolsd           8432\n",
       "vsftpd             5683\n",
       "<vsftpd>           4840\n",
       "                  ...  \n",
       "updatedb.mloca        1\n",
       "<date>                1\n",
       "<StyleThread#>        1\n",
       "kworker/5:8-cg        1\n",
       "kworker/2:1-cg        1\n",
       "Name: CMD, Length: 409, dtype: int64"
      ]
     },
     "execution_count": 12,
     "metadata": {},
     "output_type": "execute_result"
    }
   ],
   "source": [
    "dataset['CMD'].value_counts()"
   ]
  },
  {
   "cell_type": "code",
   "execution_count": 13,
   "metadata": {},
   "outputs": [],
   "source": [
    "dataset.drop('ts',1,inplace=True)"
   ]
  },
  {
   "cell_type": "markdown",
   "metadata": {},
   "source": [
    "##### Performing label encoding on the object data types and converting to numerical data types"
   ]
  },
  {
   "cell_type": "code",
   "execution_count": 14,
   "metadata": {},
   "outputs": [],
   "source": [
    "from sklearn.preprocessing import LabelEncoder\n",
    "le = LabelEncoder()\n",
    "dataset['_CMD_'] = le.fit_transform(dataset.CMD)\n",
    "dataset['_Type_'] = le.fit_transform(dataset.type)\n",
    "dataset.drop(['CMD','type'], axis=1, inplace=True)"
   ]
  },
  {
   "cell_type": "code",
   "execution_count": 15,
   "metadata": {},
   "outputs": [
    {
     "data": {
      "text/html": [
       "<div>\n",
       "<style scoped>\n",
       "    .dataframe tbody tr th:only-of-type {\n",
       "        vertical-align: middle;\n",
       "    }\n",
       "\n",
       "    .dataframe tbody tr th {\n",
       "        vertical-align: top;\n",
       "    }\n",
       "\n",
       "    .dataframe thead th {\n",
       "        text-align: right;\n",
       "    }\n",
       "</style>\n",
       "<table border=\"1\" class=\"dataframe\">\n",
       "  <thead>\n",
       "    <tr style=\"text-align: right;\">\n",
       "      <th></th>\n",
       "      <th>PID</th>\n",
       "      <th>RDDSK</th>\n",
       "      <th>WRDSK</th>\n",
       "      <th>WCANCL</th>\n",
       "      <th>DSK</th>\n",
       "      <th>label</th>\n",
       "      <th>_CMD_</th>\n",
       "      <th>_Type_</th>\n",
       "    </tr>\n",
       "  </thead>\n",
       "  <tbody>\n",
       "    <tr>\n",
       "      <th>0</th>\n",
       "      <td>2167</td>\n",
       "      <td>108.0</td>\n",
       "      <td>0.0</td>\n",
       "      <td>0.0</td>\n",
       "      <td>0</td>\n",
       "      <td>1</td>\n",
       "      <td>207</td>\n",
       "      <td>1</td>\n",
       "    </tr>\n",
       "    <tr>\n",
       "      <th>1</th>\n",
       "      <td>2044</td>\n",
       "      <td>0.0</td>\n",
       "      <td>0.0</td>\n",
       "      <td>0.0</td>\n",
       "      <td>0</td>\n",
       "      <td>1</td>\n",
       "      <td>135</td>\n",
       "      <td>1</td>\n",
       "    </tr>\n",
       "    <tr>\n",
       "      <th>2</th>\n",
       "      <td>2234</td>\n",
       "      <td>0.0</td>\n",
       "      <td>0.0</td>\n",
       "      <td>0.0</td>\n",
       "      <td>0</td>\n",
       "      <td>1</td>\n",
       "      <td>203</td>\n",
       "      <td>1</td>\n",
       "    </tr>\n",
       "    <tr>\n",
       "      <th>3</th>\n",
       "      <td>2257</td>\n",
       "      <td>0.0</td>\n",
       "      <td>0.0</td>\n",
       "      <td>0.0</td>\n",
       "      <td>0</td>\n",
       "      <td>1</td>\n",
       "      <td>204</td>\n",
       "      <td>1</td>\n",
       "    </tr>\n",
       "    <tr>\n",
       "      <th>4</th>\n",
       "      <td>2259</td>\n",
       "      <td>0.0</td>\n",
       "      <td>0.0</td>\n",
       "      <td>0.0</td>\n",
       "      <td>0</td>\n",
       "      <td>1</td>\n",
       "      <td>188</td>\n",
       "      <td>1</td>\n",
       "    </tr>\n",
       "  </tbody>\n",
       "</table>\n",
       "</div>"
      ],
      "text/plain": [
       "    PID  RDDSK  WRDSK  WCANCL  DSK  label  _CMD_  _Type_\n",
       "0  2167  108.0    0.0     0.0    0      1    207       1\n",
       "1  2044    0.0    0.0     0.0    0      1    135       1\n",
       "2  2234    0.0    0.0     0.0    0      1    203       1\n",
       "3  2257    0.0    0.0     0.0    0      1    204       1\n",
       "4  2259    0.0    0.0     0.0    0      1    188       1"
      ]
     },
     "execution_count": 15,
     "metadata": {},
     "output_type": "execute_result"
    }
   ],
   "source": [
    "dataset.head()"
   ]
  },
  {
   "cell_type": "code",
   "execution_count": 16,
   "metadata": {},
   "outputs": [
    {
     "data": {
      "text/plain": [
       "<matplotlib.axes._subplots.AxesSubplot at 0x1f5c01e1f48>"
      ]
     },
     "execution_count": 16,
     "metadata": {},
     "output_type": "execute_result"
    },
    {
     "data": {
      "image/png": "[encoded data removed]",
      "text/plain": [
       "<Figure size 432x288 with 2 Axes>"
      ]
     },
     "metadata": {
      "needs_background": "light"
     },
     "output_type": "display_data"
    }
   ],
   "source": [
    "sns.heatmap(dataset.corr().apply(abs))"
   ]
  },
  {
   "cell_type": "markdown",
   "metadata": {},
   "source": [
    "##### With the help of the heatmap we can understand how many cols are correlated, in our dataset there is less correlation therefore we can say that there are no redundant cols"
   ]
  },
  {
   "cell_type": "code",
   "execution_count": 17,
   "metadata": {},
   "outputs": [],
   "source": [
    "from sklearn.preprocessing import Normalizer\n",
    "n_scalar = Normalizer()\n",
    "xdata = dataset.iloc[:,:-1]\n",
    "x = n_scalar.fit_transform(dataset.drop('_Type_',1))"
   ]
  },
  {
   "cell_type": "markdown",
   "metadata": {},
   "source": [
    "##### We are getting the range of the values between 0 and 1 with the help of the above normalization technique."
   ]
  },
  {
   "cell_type": "code",
   "execution_count": 18,
   "metadata": {},
   "outputs": [
    {
     "data": {
      "text/plain": [
       "0    1\n",
       "1    1\n",
       "2    1\n",
       "3    1\n",
       "4    1\n",
       "Name: _Type_, dtype: int32"
      ]
     },
     "execution_count": 18,
     "metadata": {},
     "output_type": "execute_result"
    }
   ],
   "source": [
    "y = dataset['_Type_']\n",
    "y.head()"
   ]
  },
  {
   "cell_type": "code",
   "execution_count": 19,
   "metadata": {},
   "outputs": [],
   "source": [
    "import imblearn\n",
    "# from imblearn.under_sampling import RandomUnderSampler\n",
    "from imblearn.over_sampling import RandomOverSampler\n",
    "# ru = RandomUnderSampler()`\n",
    "ro=RandomOverSampler()\n",
    "# Xres, yres = ru.fit_sample(data,y)\n",
    "Xro,yro=ro.fit_sample(x,y)"
   ]
  },
  {
   "cell_type": "markdown",
   "metadata": {},
   "source": [
    "##### With the help of the random over sampler we are making all the classes in our target col equal i.e to 1 lakh"
   ]
  },
  {
   "cell_type": "code",
   "execution_count": 20,
   "metadata": {},
   "outputs": [
    {
     "data": {
      "text/plain": [
       "7    100000\n",
       "6    100000\n",
       "5    100000\n",
       "4    100000\n",
       "3    100000\n",
       "2    100000\n",
       "1    100000\n",
       "0    100000\n",
       "Name: _Type_, dtype: int64"
      ]
     },
     "execution_count": 20,
     "metadata": {},
     "output_type": "execute_result"
    }
   ],
   "source": [
    "yro.value_counts()"
   ]
  },
  {
   "cell_type": "code",
   "execution_count": 21,
   "metadata": {},
   "outputs": [],
   "source": [
    "from sklearn import model_selection\n",
    "X_train, X_test, y_train, y_test= model_selection.train_test_split(Xro, yro, test_size = 0.3, stratify = yro)"
   ]
  },
  {
   "cell_type": "markdown",
   "metadata": {},
   "source": [
    "##### Splitting the dataset into training and testing sets. We have taken the test size to be 30%"
   ]
  },
  {
   "cell_type": "markdown",
   "metadata": {},
   "source": [
    "##### Performing Kfold and  Stratified Kfold for Cross Validation"
   ]
  },
  {
   "cell_type": "code",
   "execution_count": 23,
   "metadata": {},
   "outputs": [
    {
     "data": {
      "text/plain": [
       "0.4300083333333333"
      ]
     },
     "execution_count": 23,
     "metadata": {},
     "output_type": "execute_result"
    }
   ],
   "source": [
    "from sklearn.ensemble import AdaBoostClassifier\n",
    "model = AdaBoostClassifier(random_state=42)\n",
    "model.fit(X_train,y_train)\n",
    "model.score(X_test,y_test)"
   ]
  },
  {
   "cell_type": "code",
   "execution_count": null,
   "metadata": {},
   "outputs": [],
   "source": [
    "from sklearn.model_selection import StratifiedKFold, KFold, cross_val_score\n",
    "from sklearn.ensemble import AdaBoostClassifier\n",
    "from numpy import mean\n",
    "model = AdaBoostClassifier(random_state=42)\n",
    "def evaluate_model(model):\n",
    "    K_Fold = KFold(n_splits=10)\n",
    "    score_of_kfold = cross_val_score(model, X_train, y_train, scoring='accuracy', cv=K_Fold, n_jobs=-1, verbose = 1, error_score='raise')\n",
    "    cv = StratifiedKFold(n_splits=10,shuffle=True, random_state=42)\n",
    "    score_of_stratified = cross_val_score(model, X_train, y_train, scoring='accuracy', cv=cv, n_jobs=-1, verbose = 1, error_score='raise')\n",
    "    list_of_scores = [mean(score_of_kfold),mean(score_of_stratified)]\n",
    "    return list_of_scores\n",
    "final_scores = (evaluate_model(model))"
   ]
  },
  {
   "cell_type": "code",
   "execution_count": 21,
   "metadata": {},
   "outputs": [
    {
     "data": {
      "text/plain": [
       "[0.42991250000000003, 0.4299196428571429]"
      ]
     },
     "execution_count": 21,
     "metadata": {},
     "output_type": "execute_result"
    }
   ],
   "source": [
    "final_scores"
   ]
  },
  {
   "cell_type": "code",
   "execution_count": 22,
   "metadata": {
    "scrolled": true
   },
   "outputs": [
    {
     "data": {
      "text/html": [
       "<div>\n",
       "<style scoped>\n",
       "    .dataframe tbody tr th:only-of-type {\n",
       "        vertical-align: middle;\n",
       "    }\n",
       "\n",
       "    .dataframe tbody tr th {\n",
       "        vertical-align: top;\n",
       "    }\n",
       "\n",
       "    .dataframe thead th {\n",
       "        text-align: right;\n",
       "    }\n",
       "</style>\n",
       "<table border=\"1\" class=\"dataframe\">\n",
       "  <thead>\n",
       "    <tr style=\"text-align: right;\">\n",
       "      <th></th>\n",
       "      <th>precision</th>\n",
       "      <th>recall</th>\n",
       "      <th>f1-score</th>\n",
       "      <th>support</th>\n",
       "    </tr>\n",
       "  </thead>\n",
       "  <tbody>\n",
       "    <tr>\n",
       "      <th>4</th>\n",
       "      <td>1.000000</td>\n",
       "      <td>1.000000</td>\n",
       "      <td>1.000000</td>\n",
       "      <td>30000.000000</td>\n",
       "    </tr>\n",
       "    <tr>\n",
       "      <th>0</th>\n",
       "      <td>0.753815</td>\n",
       "      <td>0.973200</td>\n",
       "      <td>0.849573</td>\n",
       "      <td>30000.000000</td>\n",
       "    </tr>\n",
       "    <tr>\n",
       "      <th>accuracy</th>\n",
       "      <td>0.431333</td>\n",
       "      <td>0.431333</td>\n",
       "      <td>0.431333</td>\n",
       "      <td>0.431333</td>\n",
       "    </tr>\n",
       "    <tr>\n",
       "      <th>macro avg</th>\n",
       "      <td>0.485243</td>\n",
       "      <td>0.431333</td>\n",
       "      <td>0.377873</td>\n",
       "      <td>240000.000000</td>\n",
       "    </tr>\n",
       "    <tr>\n",
       "      <th>weighted avg</th>\n",
       "      <td>0.485243</td>\n",
       "      <td>0.431333</td>\n",
       "      <td>0.377873</td>\n",
       "      <td>240000.000000</td>\n",
       "    </tr>\n",
       "    <tr>\n",
       "      <th>1</th>\n",
       "      <td>0.845513</td>\n",
       "      <td>0.209800</td>\n",
       "      <td>0.336182</td>\n",
       "      <td>30000.000000</td>\n",
       "    </tr>\n",
       "    <tr>\n",
       "      <th>2</th>\n",
       "      <td>0.193050</td>\n",
       "      <td>0.864367</td>\n",
       "      <td>0.315610</td>\n",
       "      <td>30000.000000</td>\n",
       "    </tr>\n",
       "    <tr>\n",
       "      <th>6</th>\n",
       "      <td>0.339663</td>\n",
       "      <td>0.276667</td>\n",
       "      <td>0.304945</td>\n",
       "      <td>30000.000000</td>\n",
       "    </tr>\n",
       "    <tr>\n",
       "      <th>3</th>\n",
       "      <td>0.749901</td>\n",
       "      <td>0.126633</td>\n",
       "      <td>0.216677</td>\n",
       "      <td>30000.000000</td>\n",
       "    </tr>\n",
       "    <tr>\n",
       "      <th>5</th>\n",
       "      <td>0.000000</td>\n",
       "      <td>0.000000</td>\n",
       "      <td>0.000000</td>\n",
       "      <td>30000.000000</td>\n",
       "    </tr>\n",
       "    <tr>\n",
       "      <th>7</th>\n",
       "      <td>0.000000</td>\n",
       "      <td>0.000000</td>\n",
       "      <td>0.000000</td>\n",
       "      <td>30000.000000</td>\n",
       "    </tr>\n",
       "  </tbody>\n",
       "</table>\n",
       "</div>"
      ],
      "text/plain": [
       "              precision    recall  f1-score        support\n",
       "4              1.000000  1.000000  1.000000   30000.000000\n",
       "0              0.753815  0.973200  0.849573   30000.000000\n",
       "accuracy       0.431333  0.431333  0.431333       0.431333\n",
       "macro avg      0.485243  0.431333  0.377873  240000.000000\n",
       "weighted avg   0.485243  0.431333  0.377873  240000.000000\n",
       "1              0.845513  0.209800  0.336182   30000.000000\n",
       "2              0.193050  0.864367  0.315610   30000.000000\n",
       "6              0.339663  0.276667  0.304945   30000.000000\n",
       "3              0.749901  0.126633  0.216677   30000.000000\n",
       "5              0.000000  0.000000  0.000000   30000.000000\n",
       "7              0.000000  0.000000  0.000000   30000.000000"
      ]
     },
     "execution_count": 22,
     "metadata": {},
     "output_type": "execute_result"
    }
   ],
   "source": [
    "model.fit(X_train,y_train)\n",
    "y_pred = model.predict(X_test)\n",
    "def get_classification_report(y_test, y_pred):\n",
    "    from sklearn import metrics\n",
    "    report = metrics.classification_report(y_test, y_pred, output_dict=True)\n",
    "    df_classification_report = pd.DataFrame(report).transpose()\n",
    "    df_classification_report = df_classification_report.sort_values(by=['f1-score'], ascending=False)\n",
    "    return df_classification_report\n",
    "get_classification_report(y_test, y_pred)"
   ]
  },
  {
   "cell_type": "code",
   "execution_count": 23,
   "metadata": {},
   "outputs": [],
   "source": [
    "from sklearn.metrics import confusion_matrix\n",
    "confmetric = confusion_matrix(y_test,y_pred)"
   ]
  },
  {
   "cell_type": "code",
   "execution_count": 24,
   "metadata": {},
   "outputs": [
    {
     "data": {
      "text/plain": [
       "array([[29196,     0,     0,   733,     0,     0,    71,     0],\n",
       "       [    0,  6294, 22821,     0,     0,     0,   885,     0],\n",
       "       [    0,   172, 25931,     9,     0,     0,  3888,     0],\n",
       "       [ 2997,     0, 23204,  3799,     0,     0,     0,     0],\n",
       "       [    0,     0,     0,     0, 30000,     0,     0,     0],\n",
       "       [    0,    16, 25860,     9,     0,     0,  4115,     0],\n",
       "       [ 6538,   639, 14023,   500,     0,     0,  8300,     0],\n",
       "       [    0,   323, 22484,    16,     0,     0,  7177,     0]],\n",
       "      dtype=int64)"
      ]
     },
     "execution_count": 24,
     "metadata": {},
     "output_type": "execute_result"
    }
   ],
   "source": [
    "confmetric"
   ]
  },
  {
   "cell_type": "code",
   "execution_count": 26,
   "metadata": {},
   "outputs": [
    {
     "data": {
      "text/plain": [
       "0.9883208333333333"
      ]
     },
     "execution_count": 26,
     "metadata": {},
     "output_type": "execute_result"
    }
   ],
   "source": [
    "import lightgbm as lgbm\n",
    "from lightgbm import LGBMClassifier\n",
    "model = LGBMClassifier(random_state=42)\n",
    "model.fit(X_train,y_train)\n",
    "model.score(X_test,y_test)"
   ]
  },
  {
   "cell_type": "code",
   "execution_count": 53,
   "metadata": {},
   "outputs": [
    {
     "name": "stderr",
     "output_type": "stream",
     "text": [
      "[Parallel(n_jobs=-1)]: Using backend LokyBackend with 8 concurrent workers.\n",
      "[Parallel(n_jobs=-1)]: Done   6 out of  10 | elapsed:  6.6min remaining:  4.4min\n",
      "[Parallel(n_jobs=-1)]: Done  10 out of  10 | elapsed:  7.8min finished\n",
      "[Parallel(n_jobs=-1)]: Using backend LokyBackend with 8 concurrent workers.\n",
      "[Parallel(n_jobs=-1)]: Done   6 out of  10 | elapsed:  4.2min remaining:  2.8min\n",
      "[Parallel(n_jobs=-1)]: Done  10 out of  10 | elapsed:  5.5min finished\n"
     ]
    }
   ],
   "source": [
    "from sklearn.model_selection import StratifiedKFold, KFold, cross_val_score\n",
    "from lightgbm import LGBMClassifier\n",
    "from numpy import mean\n",
    "model = LGBMClassifier(random_state=42)\n",
    "def evaluate_model(model):\n",
    "    K_Fold = KFold(n_splits=10)\n",
    "    score_of_kfold = cross_val_score(model, X_train, y_train, scoring='accuracy', cv=K_Fold, n_jobs=-1, verbose = 1, error_score='raise')\n",
    "    cv = StratifiedKFold(n_splits=10,shuffle=True, random_state=42)\n",
    "    score_of_stratified = cross_val_score(model, X_train, y_train, scoring='accuracy', cv=cv, n_jobs=-1, verbose = 1, error_score='raise')\n",
    "    list_of_scores = [mean(score_of_kfold),mean(score_of_stratified)]\n",
    "    return list_of_scores\n",
    "final_scores = (evaluate_model(model))"
   ]
  },
  {
   "cell_type": "code",
   "execution_count": 54,
   "metadata": {},
   "outputs": [
    {
     "data": {
      "text/plain": [
       "[0.9889214285714285, 0.9886410714285715]"
      ]
     },
     "execution_count": 54,
     "metadata": {},
     "output_type": "execute_result"
    }
   ],
   "source": [
    "final_scores"
   ]
  },
  {
   "cell_type": "code",
   "execution_count": 55,
   "metadata": {},
   "outputs": [
    {
     "data": {
      "text/html": [
       "<div>\n",
       "<style scoped>\n",
       "    .dataframe tbody tr th:only-of-type {\n",
       "        vertical-align: middle;\n",
       "    }\n",
       "\n",
       "    .dataframe tbody tr th {\n",
       "        vertical-align: top;\n",
       "    }\n",
       "\n",
       "    .dataframe thead th {\n",
       "        text-align: right;\n",
       "    }\n",
       "</style>\n",
       "<table border=\"1\" class=\"dataframe\">\n",
       "  <thead>\n",
       "    <tr style=\"text-align: right;\">\n",
       "      <th></th>\n",
       "      <th>precision</th>\n",
       "      <th>recall</th>\n",
       "      <th>f1-score</th>\n",
       "      <th>support</th>\n",
       "    </tr>\n",
       "  </thead>\n",
       "  <tbody>\n",
       "    <tr>\n",
       "      <th>4</th>\n",
       "      <td>1.000000</td>\n",
       "      <td>1.000000</td>\n",
       "      <td>1.000000</td>\n",
       "      <td>30000.000000</td>\n",
       "    </tr>\n",
       "    <tr>\n",
       "      <th>0</th>\n",
       "      <td>0.999867</td>\n",
       "      <td>0.999933</td>\n",
       "      <td>0.999900</td>\n",
       "      <td>30000.000000</td>\n",
       "    </tr>\n",
       "    <tr>\n",
       "      <th>3</th>\n",
       "      <td>0.992392</td>\n",
       "      <td>1.000000</td>\n",
       "      <td>0.996181</td>\n",
       "      <td>30000.000000</td>\n",
       "    </tr>\n",
       "    <tr>\n",
       "      <th>5</th>\n",
       "      <td>0.994253</td>\n",
       "      <td>0.986133</td>\n",
       "      <td>0.990177</td>\n",
       "      <td>30000.000000</td>\n",
       "    </tr>\n",
       "    <tr>\n",
       "      <th>weighted avg</th>\n",
       "      <td>0.989354</td>\n",
       "      <td>0.989308</td>\n",
       "      <td>0.989315</td>\n",
       "      <td>240000.000000</td>\n",
       "    </tr>\n",
       "    <tr>\n",
       "      <th>macro avg</th>\n",
       "      <td>0.989354</td>\n",
       "      <td>0.989308</td>\n",
       "      <td>0.989315</td>\n",
       "      <td>240000.000000</td>\n",
       "    </tr>\n",
       "    <tr>\n",
       "      <th>accuracy</th>\n",
       "      <td>0.989308</td>\n",
       "      <td>0.989308</td>\n",
       "      <td>0.989308</td>\n",
       "      <td>0.989308</td>\n",
       "    </tr>\n",
       "    <tr>\n",
       "      <th>6</th>\n",
       "      <td>0.987116</td>\n",
       "      <td>0.985800</td>\n",
       "      <td>0.986458</td>\n",
       "      <td>30000.000000</td>\n",
       "    </tr>\n",
       "    <tr>\n",
       "      <th>1</th>\n",
       "      <td>0.989589</td>\n",
       "      <td>0.979067</td>\n",
       "      <td>0.984300</td>\n",
       "      <td>30000.000000</td>\n",
       "    </tr>\n",
       "    <tr>\n",
       "      <th>7</th>\n",
       "      <td>0.984363</td>\n",
       "      <td>0.979933</td>\n",
       "      <td>0.982143</td>\n",
       "      <td>30000.000000</td>\n",
       "    </tr>\n",
       "    <tr>\n",
       "      <th>2</th>\n",
       "      <td>0.967253</td>\n",
       "      <td>0.983600</td>\n",
       "      <td>0.975358</td>\n",
       "      <td>30000.000000</td>\n",
       "    </tr>\n",
       "  </tbody>\n",
       "</table>\n",
       "</div>"
      ],
      "text/plain": [
       "              precision    recall  f1-score        support\n",
       "4              1.000000  1.000000  1.000000   30000.000000\n",
       "0              0.999867  0.999933  0.999900   30000.000000\n",
       "3              0.992392  1.000000  0.996181   30000.000000\n",
       "5              0.994253  0.986133  0.990177   30000.000000\n",
       "weighted avg   0.989354  0.989308  0.989315  240000.000000\n",
       "macro avg      0.989354  0.989308  0.989315  240000.000000\n",
       "accuracy       0.989308  0.989308  0.989308       0.989308\n",
       "6              0.987116  0.985800  0.986458   30000.000000\n",
       "1              0.989589  0.979067  0.984300   30000.000000\n",
       "7              0.984363  0.979933  0.982143   30000.000000\n",
       "2              0.967253  0.983600  0.975358   30000.000000"
      ]
     },
     "execution_count": 55,
     "metadata": {},
     "output_type": "execute_result"
    }
   ],
   "source": [
    "model.fit(X_train,y_train)\n",
    "y_pred = model.predict(X_test)\n",
    "def get_classification_report(y_test, y_pred):\n",
    "    from sklearn import metrics\n",
    "    report = metrics.classification_report(y_test, y_pred, output_dict=True)\n",
    "    df_classification_report = pd.DataFrame(report).transpose()\n",
    "    df_classification_report = df_classification_report.sort_values(by=['f1-score'], ascending=False)\n",
    "    return df_classification_report\n",
    "get_classification_report(y_test, y_pred)"
   ]
  },
  {
   "cell_type": "code",
   "execution_count": 28,
   "metadata": {},
   "outputs": [
    {
     "data": {
      "text/plain": [
       "array([[29995,     0,     0,     0,     0,     0,     5,     0],\n",
       "       [    0, 29413,   454,    10,     0,    16,    49,    58],\n",
       "       [    0,   118, 29551,   151,     0,    29,    23,   128],\n",
       "       [    0,   295,     0, 29705,     0,     0,     0,     0],\n",
       "       [    0,     0,     0,     0, 30000,     0,     0,     0],\n",
       "       [    0,    30,    37,    10,     0, 29523,   336,    64],\n",
       "       [    0,    99,    66,    22,     0,    48, 29578,   187],\n",
       "       [    0,    19,   437,     7,     0,    31,    74, 29432]],\n",
       "      dtype=int64)"
      ]
     },
     "execution_count": 28,
     "metadata": {},
     "output_type": "execute_result"
    }
   ],
   "source": [
    "from sklearn.metrics import confusion_matrix\n",
    "y_pred = model.predict(X_test)\n",
    "confmetric = confusion_matrix(y_test,y_pred)\n",
    "confmetric"
   ]
  },
  {
   "cell_type": "code",
   "execution_count": 21,
   "metadata": {},
   "outputs": [
    {
     "data": {
      "text/plain": [
       "{'algorithm': 'SAMME.R',\n",
       " 'base_estimator': None,\n",
       " 'learning_rate': 1.0,\n",
       " 'n_estimators': 50,\n",
       " 'random_state': 42}"
      ]
     },
     "execution_count": 21,
     "metadata": {},
     "output_type": "execute_result"
    }
   ],
   "source": [
    "model.get_params()"
   ]
  },
  {
   "cell_type": "code",
   "execution_count": 26,
   "metadata": {},
   "outputs": [],
   "source": [
    "params = {'AB':{'learning_rate': [0.05, 0.1, 0.2, 0.5], 'n_estimators': range(50,501,100)},'LGBM':{'max_depth':range(3,10,2), 'n_estimators': range(50,201,50),'learning_rate': [0.05, 0.08, 0.1, 0.15, 0.2],'subsample':[0.5,0.7,0.9],'num_leaves': range(15,51,10)}}"
   ]
  },
  {
   "cell_type": "markdown",
   "metadata": {},
   "source": [
    "##### Performing Grid Search CV for hyperparameter tuning using the various combinations of the above mentioned parameters"
   ]
  },
  {
   "cell_type": "code",
   "execution_count": 27,
   "metadata": {},
   "outputs": [
    {
     "name": "stdout",
     "output_type": "stream",
     "text": [
      "Fitting 4 folds for each of 20 candidates, totalling 80 fits\n"
     ]
    },
    {
     "name": "stderr",
     "output_type": "stream",
     "text": [
      "[Parallel(n_jobs=-1)]: Using backend LokyBackend with 8 concurrent workers.\n",
      "[Parallel(n_jobs=-1)]: Done  16 tasks      | elapsed: 22.1min\n",
      "[Parallel(n_jobs=-1)]: Done  80 out of  80 | elapsed: 102.9min finished\n"
     ]
    },
    {
     "name": "stdout",
     "output_type": "stream",
     "text": [
      "AB\n",
      "best score: 0.43306607142857145\n",
      "best params: {'learning_rate': 0.5, 'n_estimators': 250}\n",
      "Fitting 4 folds for each of 960 candidates, totalling 3840 fits\n"
     ]
    },
    {
     "name": "stderr",
     "output_type": "stream",
     "text": [
      "[Parallel(n_jobs=-1)]: Using backend LokyBackend with 8 concurrent workers.\n",
      "[Parallel(n_jobs=-1)]: Done  16 tasks      | elapsed:  2.9min\n",
      "[Parallel(n_jobs=-1)]: Done 112 tasks      | elapsed: 20.3min\n",
      "[Parallel(n_jobs=-1)]: Done 272 tasks      | elapsed: 61.9min\n",
      "[Parallel(n_jobs=-1)]: Done 496 tasks      | elapsed: 152.4min\n",
      "[Parallel(n_jobs=-1)]: Done 784 tasks      | elapsed: 306.3min\n",
      "[Parallel(n_jobs=-1)]: Done 1136 tasks      | elapsed: 416.7min\n",
      "[Parallel(n_jobs=-1)]: Done 1552 tasks      | elapsed: 631.5min\n",
      "[Parallel(n_jobs=-1)]: Done 2032 tasks      | elapsed: 792.3min\n",
      "[Parallel(n_jobs=-1)]: Done 2576 tasks      | elapsed: 1023.3min\n",
      "[Parallel(n_jobs=-1)]: Done 3184 tasks      | elapsed: 1300.0min\n",
      "[Parallel(n_jobs=-1)]: Done 3840 out of 3840 | elapsed: 1591.8min finished\n"
     ]
    },
    {
     "name": "stdout",
     "output_type": "stream",
     "text": [
      "LGBM\n",
      "best score: 0.9926607142857142\n",
      "best params: {'learning_rate': 0.2, 'max_depth': 9, 'n_estimators': 200, 'num_leaves': 45, 'subsample': 0.5}\n"
     ]
    }
   ],
   "source": [
    "from sklearn.model_selection import GridSearchCV\n",
    "best_params = params\n",
    "names= list()\n",
    "models = {'AB':AdaBoostClassifier(random_state=42),'LGBM':LGBMClassifier(random_state=42)}\n",
    "for name, param_grid, model in zip(params.keys(), params.values(), models.values()):\n",
    "    gscv = GridSearchCV(model, param_grid, n_jobs=-1, verbose=3, cv=4)\n",
    "    gscv.fit(X_train,y_train)\n",
    "    names.append(name)\n",
    "    best_params[name] = gscv.best_params_\n",
    "    print(name)\n",
    "    print(\"best score:\",gscv.best_score_)\n",
    "    print(\"best params:\",gscv.best_params_)"
   ]
  },
  {
   "cell_type": "code",
   "execution_count": 22,
   "metadata": {},
   "outputs": [],
   "source": [
    "params = {'AB':{'learning_rate': [0.0001, 0.1, 1.0], 'n_estimators':(10,50,100)}}"
   ]
  },
  {
   "cell_type": "code",
   "execution_count": 23,
   "metadata": {},
   "outputs": [
    {
     "name": "stdout",
     "output_type": "stream",
     "text": [
      "Fitting 4 folds for each of 9 candidates, totalling 36 fits\n"
     ]
    },
    {
     "name": "stderr",
     "output_type": "stream",
     "text": [
      "[Parallel(n_jobs=-1)]: Using backend LokyBackend with 8 concurrent workers.\n",
      "[Parallel(n_jobs=-1)]: Done  16 tasks      | elapsed:  7.9min\n",
      "[Parallel(n_jobs=-1)]: Done  34 out of  36 | elapsed: 32.1min remaining:  1.9min\n",
      "[Parallel(n_jobs=-1)]: Done  36 out of  36 | elapsed: 32.4min finished\n"
     ]
    },
    {
     "name": "stdout",
     "output_type": "stream",
     "text": [
      "AB\n",
      "best score: 0.4558285714285714\n",
      "best params: {'learning_rate': 1.0, 'n_estimators': 100}\n"
     ]
    }
   ],
   "source": [
    "from sklearn.model_selection import GridSearchCV\n",
    "best_params = params\n",
    "names= list()\n",
    "models = {'AB':AdaBoostClassifier(random_state=42)}\n",
    "for name, param_grid, model in zip(params.keys(), params.values(), models.values()):\n",
    "    gscv = GridSearchCV(model, param_grid, n_jobs=-1, verbose=3, cv=4)\n",
    "    gscv.fit(X_train,y_train)\n",
    "    names.append(name)\n",
    "    best_params[name] = gscv.best_params_\n",
    "    print(name)\n",
    "    print(\"best score:\",gscv.best_score_)\n",
    "    print(\"best params:\",gscv.best_params_)"
   ]
  },
  {
   "cell_type": "code",
   "execution_count": 23,
   "metadata": {},
   "outputs": [],
   "source": [
    "params = {'AB':{'learning_rate': [0.001, 0.5, 2.0], 'n_estimators':(200,300,400)}}"
   ]
  },
  {
   "cell_type": "code",
   "execution_count": 24,
   "metadata": {},
   "outputs": [
    {
     "name": "stdout",
     "output_type": "stream",
     "text": [
      "Fitting 4 folds for each of 9 candidates, totalling 36 fits\n"
     ]
    },
    {
     "name": "stderr",
     "output_type": "stream",
     "text": [
      "[Parallel(n_jobs=-1)]: Using backend LokyBackend with 8 concurrent workers.\n",
      "[Parallel(n_jobs=-1)]: Done  16 tasks      | elapsed: 30.5min\n",
      "[Parallel(n_jobs=-1)]: Done  34 out of  36 | elapsed: 66.2min remaining:  3.9min\n",
      "[Parallel(n_jobs=-1)]: Done  36 out of  36 | elapsed: 66.3min finished\n"
     ]
    },
    {
     "name": "stdout",
     "output_type": "stream",
     "text": [
      "AB\n",
      "best score: 0.4535517857142857\n",
      "best params: {'learning_rate': 2.0, 'n_estimators': 400}\n"
     ]
    }
   ],
   "source": [
    "from sklearn.model_selection import GridSearchCV\n",
    "best_params = params\n",
    "names= list()\n",
    "models = {'AB':AdaBoostClassifier(random_state=42)}\n",
    "for name, param_grid, model in zip(params.keys(), params.values(), models.values()):\n",
    "    gscv = GridSearchCV(model, param_grid, n_jobs=-1, verbose=3, cv=4)\n",
    "    gscv.fit(X_train,y_train)\n",
    "    names.append(name)\n",
    "    best_params[name] = gscv.best_params_\n",
    "    print(name)\n",
    "    print(\"best score:\",gscv.best_score_)\n",
    "    print(\"best params:\",gscv.best_params_)"
   ]
  },
  {
   "cell_type": "code",
   "execution_count": 22,
   "metadata": {},
   "outputs": [
    {
     "data": {
      "text/plain": [
       "0.9267583333333334"
      ]
     },
     "execution_count": 22,
     "metadata": {},
     "output_type": "execute_result"
    }
   ],
   "source": [
    "from xgboost import XGBClassifier\n",
    "model = XGBClassifier(random_state=42)\n",
    "model.fit(X_train, y_train)\n",
    "model.score(X_test,y_test)"
   ]
  },
  {
   "cell_type": "code",
   "execution_count": 23,
   "metadata": {},
   "outputs": [
    {
     "data": {
      "text/html": [
       "<div>\n",
       "<style scoped>\n",
       "    .dataframe tbody tr th:only-of-type {\n",
       "        vertical-align: middle;\n",
       "    }\n",
       "\n",
       "    .dataframe tbody tr th {\n",
       "        vertical-align: top;\n",
       "    }\n",
       "\n",
       "    .dataframe thead th {\n",
       "        text-align: right;\n",
       "    }\n",
       "</style>\n",
       "<table border=\"1\" class=\"dataframe\">\n",
       "  <thead>\n",
       "    <tr style=\"text-align: right;\">\n",
       "      <th></th>\n",
       "      <th>precision</th>\n",
       "      <th>recall</th>\n",
       "      <th>f1-score</th>\n",
       "      <th>support</th>\n",
       "    </tr>\n",
       "  </thead>\n",
       "  <tbody>\n",
       "    <tr>\n",
       "      <th>4</th>\n",
       "      <td>1.000000</td>\n",
       "      <td>1.000000</td>\n",
       "      <td>1.000000</td>\n",
       "      <td>30000.000000</td>\n",
       "    </tr>\n",
       "    <tr>\n",
       "      <th>0</th>\n",
       "      <td>0.999467</td>\n",
       "      <td>0.999467</td>\n",
       "      <td>0.999467</td>\n",
       "      <td>30000.000000</td>\n",
       "    </tr>\n",
       "    <tr>\n",
       "      <th>accuracy</th>\n",
       "      <td>0.926758</td>\n",
       "      <td>0.926758</td>\n",
       "      <td>0.926758</td>\n",
       "      <td>0.926758</td>\n",
       "    </tr>\n",
       "    <tr>\n",
       "      <th>macro avg</th>\n",
       "      <td>0.928758</td>\n",
       "      <td>0.926758</td>\n",
       "      <td>0.926724</td>\n",
       "      <td>240000.000000</td>\n",
       "    </tr>\n",
       "    <tr>\n",
       "      <th>weighted avg</th>\n",
       "      <td>0.928758</td>\n",
       "      <td>0.926758</td>\n",
       "      <td>0.926724</td>\n",
       "      <td>240000.000000</td>\n",
       "    </tr>\n",
       "    <tr>\n",
       "      <th>6</th>\n",
       "      <td>0.952455</td>\n",
       "      <td>0.900800</td>\n",
       "      <td>0.925908</td>\n",
       "      <td>30000.000000</td>\n",
       "    </tr>\n",
       "    <tr>\n",
       "      <th>5</th>\n",
       "      <td>0.891621</td>\n",
       "      <td>0.947467</td>\n",
       "      <td>0.918696</td>\n",
       "      <td>30000.000000</td>\n",
       "    </tr>\n",
       "    <tr>\n",
       "      <th>1</th>\n",
       "      <td>0.922137</td>\n",
       "      <td>0.883100</td>\n",
       "      <td>0.902196</td>\n",
       "      <td>30000.000000</td>\n",
       "    </tr>\n",
       "    <tr>\n",
       "      <th>3</th>\n",
       "      <td>0.846331</td>\n",
       "      <td>0.954267</td>\n",
       "      <td>0.897064</td>\n",
       "      <td>30000.000000</td>\n",
       "    </tr>\n",
       "    <tr>\n",
       "      <th>7</th>\n",
       "      <td>0.940842</td>\n",
       "      <td>0.837600</td>\n",
       "      <td>0.886224</td>\n",
       "      <td>30000.000000</td>\n",
       "    </tr>\n",
       "    <tr>\n",
       "      <th>2</th>\n",
       "      <td>0.877214</td>\n",
       "      <td>0.891367</td>\n",
       "      <td>0.884234</td>\n",
       "      <td>30000.000000</td>\n",
       "    </tr>\n",
       "  </tbody>\n",
       "</table>\n",
       "</div>"
      ],
      "text/plain": [
       "              precision    recall  f1-score        support\n",
       "4              1.000000  1.000000  1.000000   30000.000000\n",
       "0              0.999467  0.999467  0.999467   30000.000000\n",
       "accuracy       0.926758  0.926758  0.926758       0.926758\n",
       "macro avg      0.928758  0.926758  0.926724  240000.000000\n",
       "weighted avg   0.928758  0.926758  0.926724  240000.000000\n",
       "6              0.952455  0.900800  0.925908   30000.000000\n",
       "5              0.891621  0.947467  0.918696   30000.000000\n",
       "1              0.922137  0.883100  0.902196   30000.000000\n",
       "3              0.846331  0.954267  0.897064   30000.000000\n",
       "7              0.940842  0.837600  0.886224   30000.000000\n",
       "2              0.877214  0.891367  0.884234   30000.000000"
      ]
     },
     "execution_count": 23,
     "metadata": {},
     "output_type": "execute_result"
    }
   ],
   "source": [
    "model.fit(X_train,y_train)\n",
    "y_pred = model.predict(X_test)\n",
    "def get_classification_report(y_test, y_pred):\n",
    "    from sklearn import metrics\n",
    "    report = metrics.classification_report(y_test, y_pred, output_dict=True)\n",
    "    df_classification_report = pd.DataFrame(report).transpose()\n",
    "    df_classification_report = df_classification_report.sort_values(by=['f1-score'], ascending=False)\n",
    "    return df_classification_report\n",
    "get_classification_report(y_test, y_pred)"
   ]
  },
  {
   "cell_type": "code",
   "execution_count": 24,
   "metadata": {},
   "outputs": [
    {
     "data": {
      "text/plain": [
       "array([[29984,     0,     0,     0,     0,     0,    16,     0],\n",
       "       [    0, 26493,  1812,  1178,     0,   123,   121,   273],\n",
       "       [    0,   492, 26741,  1279,     0,   701,    61,   726],\n",
       "       [    0,   277,   263, 28628,     0,     0,   547,   285],\n",
       "       [    0,     0,     0,     0, 30000,     0,     0,     0],\n",
       "       [    0,   390,   320,   555,     0, 28424,   259,    52],\n",
       "       [   16,   438,   468,   737,     0,  1073, 27024,   244],\n",
       "       [    0,   640,   880,  1449,     0,  1558,   345, 25128]],\n",
       "      dtype=int64)"
      ]
     },
     "execution_count": 24,
     "metadata": {},
     "output_type": "execute_result"
    }
   ],
   "source": [
    "from sklearn.metrics import confusion_matrix\n",
    "y_pred = model.predict(X_test)\n",
    "confmetric = confusion_matrix(y_test,y_pred)\n",
    "confmetric"
   ]
  },
  {
   "cell_type": "code",
   "execution_count": 70,
   "metadata": {},
   "outputs": [],
   "source": [
    "from sklearn import model_selection\n",
    "from sklearn.model_selection import StratifiedKFold,KFold,RepeatedStratifiedKFold,cross_val_score\n",
    "from xgboost import XGBClassifier\n",
    "from numpy import mean"
   ]
  },
  {
   "cell_type": "code",
   "execution_count": 24,
   "metadata": {},
   "outputs": [],
   "source": [
    "model = XGBClassifier(random_state=42)\n",
    "def evaluate_model(model):    \n",
    "    KF=KFold(n_splits=10)\n",
    "    score1 = cross_val_score(model, X_train, y_train, scoring='accuracy', cv=KF) \n",
    "    list_scores=[mean(score1)]\n",
    "    return list_scores\n",
    "scores = evaluate_model(model)"
   ]
  },
  {
   "cell_type": "code",
   "execution_count": 25,
   "metadata": {},
   "outputs": [
    {
     "name": "stdout",
     "output_type": "stream",
     "text": [
      "KFOLD CROSS VALIDATION SCORE\n",
      "------------------------------------\n",
      "KFold - 92.51 %\n"
     ]
    }
   ],
   "source": [
    "names=[\"KFold\"]\n",
    "print(\"KFOLD CROSS VALIDATION SCORE\")\n",
    "print(\"------------------------------------\")\n",
    "for (i,j) in zip(scores,names):\n",
    "    print(j,\"-\",round(i*100,2),'%')"
   ]
  },
  {
   "cell_type": "code",
   "execution_count": 26,
   "metadata": {},
   "outputs": [],
   "source": [
    "params={'max_depth':[3], 'n_estimators': [250,400],'learning_rate': [0.01,0.1], 'subsample':[0.6,0.9]}"
   ]
  },
  {
   "cell_type": "code",
   "execution_count": 71,
   "metadata": {},
   "outputs": [],
   "source": [
    "from sklearn.model_selection import GridSearchCV"
   ]
  },
  {
   "cell_type": "code",
   "execution_count": 72,
   "metadata": {},
   "outputs": [],
   "source": [
    "grid = GridSearchCV(XGBClassifier(),params,refit=True)"
   ]
  },
  {
   "cell_type": "code",
   "execution_count": 73,
   "metadata": {},
   "outputs": [
    {
     "data": {
      "text/plain": [
       "GridSearchCV(estimator=XGBClassifier(),\n",
       "             param_grid={'learning_rate': [0.01, 0.1], 'max_depth': [3],\n",
       "                         'n_estimators': [250, 400], 'subsample': [0.6, 0.9]})"
      ]
     },
     "execution_count": 73,
     "metadata": {},
     "output_type": "execute_result"
    }
   ],
   "source": [
    "grid.fit(X_train,y_train)"
   ]
  },
  {
   "cell_type": "code",
   "execution_count": 74,
   "metadata": {},
   "outputs": [
    {
     "data": {
      "text/plain": [
       "{'learning_rate': 0.1, 'max_depth': 3, 'n_estimators': 400, 'subsample': 0.6}"
      ]
     },
     "execution_count": 74,
     "metadata": {},
     "output_type": "execute_result"
    }
   ],
   "source": [
    "grid.best_params_"
   ]
  },
  {
   "cell_type": "code",
   "execution_count": 75,
   "metadata": {},
   "outputs": [
    {
     "data": {
      "text/plain": [
       "XGBClassifier(n_estimators=400, objective='multi:softprob', subsample=0.6)"
      ]
     },
     "execution_count": 75,
     "metadata": {},
     "output_type": "execute_result"
    }
   ],
   "source": [
    "grid.best_estimator_"
   ]
  },
  {
   "cell_type": "code",
   "execution_count": 76,
   "metadata": {},
   "outputs": [],
   "source": [
    "grid_predictions = grid.predict(X_test)"
   ]
  },
  {
   "cell_type": "code",
   "execution_count": 78,
   "metadata": {},
   "outputs": [
    {
     "name": "stdout",
     "output_type": "stream",
     "text": [
      "              precision    recall  f1-score   support\n",
      "\n",
      "           0       0.97      0.97      0.97        34\n",
      "           1       0.91      0.88      0.89        33\n",
      "           2       0.87      0.76      0.81        34\n",
      "           3       0.77      0.79      0.78        34\n",
      "           4       1.00      1.00      1.00        33\n",
      "           5       0.78      0.85      0.82        34\n",
      "           6       0.87      0.79      0.83        34\n",
      "           7       0.76      0.85      0.80        33\n",
      "\n",
      "    accuracy                           0.86       269\n",
      "   macro avg       0.87      0.86      0.86       269\n",
      "weighted avg       0.87      0.86      0.86       269\n",
      "\n"
     ]
    }
   ],
   "source": [
    "from sklearn.metrics import classification_report,confusion_matrix\n",
    "print(classification_report(y_test,grid_predictions))"
   ]
  }
 ],
 "metadata": {
  "kernelspec": {
   "display_name": "Python 3",
   "language": "python",
   "name": "python3"
  },
  "language_info": {
   "codemirror_mode": {
    "name": "ipython",
    "version": 3
   },
   "file_extension": ".py",
   "mimetype": "text/x-python",
   "name": "python",
   "nbconvert_exporter": "python",
   "pygments_lexer": "ipython3",
   "version": "3.7.6"
  }
 },
 "nbformat": 4,
 "nbformat_minor": 4
}
